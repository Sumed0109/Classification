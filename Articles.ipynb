{
 "cells": [
  {
   "cell_type": "markdown",
   "metadata": {},
   "source": [
    "# Research Articles Identification\n",
    "\n",
    "Researchers have access to large online archives of scientific articles. As a consequence, finding relevant articles has become more difficult. Given the abstract and title for a set of research articles, predict if the topic of article is related to computer science or not."
   ]
  },
  {
   "cell_type": "markdown",
   "metadata": {},
   "source": [
    "# Train Data Details -\n",
    "\n",
    "ID - Unique ID for each article\n",
    "\n",
    "TITLE - Title of the research article\n",
    "\n",
    "ABSTRACT - Abstract of the research article\n",
    "\n",
    "Computer Science - Whether article belongs to topic computer science (1/0)"
   ]
  },
  {
   "cell_type": "code",
   "execution_count": 56,
   "metadata": {},
   "outputs": [],
   "source": [
    "import pandas as pd \n",
    "import numpy as np \n",
    "import matplotlib.pyplot as plt \n",
    "import seaborn as sns\n",
    "%matplotlib inline  \n",
    "import warnings\n",
    "warnings.filterwarnings(\"ignore\")\n",
    "\n",
    "#import the necessary modelling algos.\n",
    "from sklearn.linear_model import LogisticRegression\n",
    "from sklearn.svm import LinearSVC\n",
    "from sklearn.svm import SVC\n",
    "from sklearn.neighbors import KNeighborsClassifier\n",
    "from sklearn.ensemble import RandomForestClassifier\n",
    "from sklearn.tree import DecisionTreeClassifier\n",
    "from sklearn.ensemble import GradientBoostingClassifier\n",
    "from sklearn.naive_bayes import MultinomialNB\n",
    "from sklearn.naive_bayes import BernoulliNB\n",
    "from xgboost import XGBClassifier\n",
    "from scipy.sparse import hstack\n",
    "\n",
    "#model selection\n",
    "from sklearn.metrics import accuracy_score,precision_score,recall_score,confusion_matrix,roc_curve,roc_auc_score\n",
    "from sklearn.feature_extraction.text import TfidfVectorizer, CountVectorizer\n",
    "from sklearn.model_selection import train_test_split,RandomizedSearchCV, GridSearchCV\n",
    "from sklearn.preprocessing import LabelEncoder\n",
    "\n",
    "from nltk.stem import WordNetLemmatizer \n",
    "#import nltk\n",
    "#nltk.download('wordnet')"
   ]
  },
  {
   "cell_type": "code",
   "execution_count": 2,
   "metadata": {},
   "outputs": [
    {
     "data": {
      "text/plain": [
       "(20972, 4)"
      ]
     },
     "execution_count": 2,
     "metadata": {},
     "output_type": "execute_result"
    }
   ],
   "source": [
    "# Import dataset\n",
    "\n",
    "df = pd.read_csv(\"Articles.csv\")\n",
    "df.shape"
   ]
  },
  {
   "cell_type": "code",
   "execution_count": 3,
   "metadata": {},
   "outputs": [
    {
     "data": {
      "text/html": [
       "<div>\n",
       "<style scoped>\n",
       "    .dataframe tbody tr th:only-of-type {\n",
       "        vertical-align: middle;\n",
       "    }\n",
       "\n",
       "    .dataframe tbody tr th {\n",
       "        vertical-align: top;\n",
       "    }\n",
       "\n",
       "    .dataframe thead th {\n",
       "        text-align: right;\n",
       "    }\n",
       "</style>\n",
       "<table border=\"1\" class=\"dataframe\">\n",
       "  <thead>\n",
       "    <tr style=\"text-align: right;\">\n",
       "      <th></th>\n",
       "      <th>ID</th>\n",
       "      <th>TITLE</th>\n",
       "      <th>ABSTRACT</th>\n",
       "      <th>Computer Science</th>\n",
       "    </tr>\n",
       "  </thead>\n",
       "  <tbody>\n",
       "    <tr>\n",
       "      <th>0</th>\n",
       "      <td>1</td>\n",
       "      <td>Reconstructing Subject-Specific Effect Maps</td>\n",
       "      <td>Predictive models allow subject-specific inf...</td>\n",
       "      <td>1</td>\n",
       "    </tr>\n",
       "    <tr>\n",
       "      <th>1</th>\n",
       "      <td>2</td>\n",
       "      <td>Rotation Invariance Neural Network</td>\n",
       "      <td>Rotation invariance and translation invarian...</td>\n",
       "      <td>1</td>\n",
       "    </tr>\n",
       "    <tr>\n",
       "      <th>2</th>\n",
       "      <td>3</td>\n",
       "      <td>Spherical polyharmonics and Poisson kernels fo...</td>\n",
       "      <td>We introduce and develop the notion of spher...</td>\n",
       "      <td>0</td>\n",
       "    </tr>\n",
       "    <tr>\n",
       "      <th>3</th>\n",
       "      <td>4</td>\n",
       "      <td>A finite element approximation for the stochas...</td>\n",
       "      <td>The stochastic Landau--Lifshitz--Gilbert (LL...</td>\n",
       "      <td>0</td>\n",
       "    </tr>\n",
       "    <tr>\n",
       "      <th>4</th>\n",
       "      <td>5</td>\n",
       "      <td>Comparative study of Discrete Wavelet Transfor...</td>\n",
       "      <td>Fourier-transform infra-red (FTIR) spectra o...</td>\n",
       "      <td>1</td>\n",
       "    </tr>\n",
       "  </tbody>\n",
       "</table>\n",
       "</div>"
      ],
      "text/plain": [
       "   ID                                              TITLE  \\\n",
       "0   1        Reconstructing Subject-Specific Effect Maps   \n",
       "1   2                 Rotation Invariance Neural Network   \n",
       "2   3  Spherical polyharmonics and Poisson kernels fo...   \n",
       "3   4  A finite element approximation for the stochas...   \n",
       "4   5  Comparative study of Discrete Wavelet Transfor...   \n",
       "\n",
       "                                            ABSTRACT  Computer Science  \n",
       "0    Predictive models allow subject-specific inf...                 1  \n",
       "1    Rotation invariance and translation invarian...                 1  \n",
       "2    We introduce and develop the notion of spher...                 0  \n",
       "3    The stochastic Landau--Lifshitz--Gilbert (LL...                 0  \n",
       "4    Fourier-transform infra-red (FTIR) spectra o...                 1  "
      ]
     },
     "execution_count": 3,
     "metadata": {},
     "output_type": "execute_result"
    }
   ],
   "source": [
    "df.head()"
   ]
  },
  {
   "cell_type": "code",
   "execution_count": 4,
   "metadata": {},
   "outputs": [],
   "source": [
    "# Drop - Ignore variable, if it is not significant.\n",
    "\n",
    "df = df.drop('ID',axis=1)"
   ]
  },
  {
   "cell_type": "code",
   "execution_count": 5,
   "metadata": {},
   "outputs": [],
   "source": [
    "df.columns = ['title','abstract','ComputerScience']"
   ]
  },
  {
   "cell_type": "code",
   "execution_count": 6,
   "metadata": {},
   "outputs": [
    {
     "name": "stdout",
     "output_type": "stream",
     "text": [
      "<class 'pandas.core.frame.DataFrame'>\n",
      "RangeIndex: 20972 entries, 0 to 20971\n",
      "Data columns (total 3 columns):\n",
      " #   Column           Non-Null Count  Dtype \n",
      "---  ------           --------------  ----- \n",
      " 0   title            20972 non-null  object\n",
      " 1   abstract         20972 non-null  object\n",
      " 2   ComputerScience  20972 non-null  int64 \n",
      "dtypes: int64(1), object(2)\n",
      "memory usage: 491.7+ KB\n"
     ]
    }
   ],
   "source": [
    "df.info()"
   ]
  },
  {
   "cell_type": "code",
   "execution_count": 7,
   "metadata": {},
   "outputs": [
    {
     "data": {
      "text/plain": [
       "title              0\n",
       "abstract           0\n",
       "ComputerScience    0\n",
       "dtype: int64"
      ]
     },
     "execution_count": 7,
     "metadata": {},
     "output_type": "execute_result"
    }
   ],
   "source": [
    "df.isnull().sum()"
   ]
  },
  {
   "cell_type": "code",
   "execution_count": 8,
   "metadata": {},
   "outputs": [
    {
     "data": {
      "text/plain": [
       "0"
      ]
     },
     "execution_count": 8,
     "metadata": {},
     "output_type": "execute_result"
    }
   ],
   "source": [
    "df.duplicated().sum()"
   ]
  },
  {
   "cell_type": "code",
   "execution_count": 9,
   "metadata": {},
   "outputs": [
    {
     "data": {
      "text/plain": [
       "<seaborn.axisgrid.FacetGrid at 0x15b0fec9700>"
      ]
     },
     "execution_count": 9,
     "metadata": {},
     "output_type": "execute_result"
    },
    {
     "data": {
      "image/png": "[encoded data removed]",
      "text/plain": [
       "<Figure size 360x360 with 1 Axes>"
      ]
     },
     "metadata": {
      "needs_background": "light"
     },
     "output_type": "display_data"
    }
   ],
   "source": [
    "sns.factorplot(data=df,kind='count',size=5,aspect=1,x='ComputerScience')"
   ]
  },
  {
   "cell_type": "code",
   "execution_count": 10,
   "metadata": {},
   "outputs": [
    {
     "data": {
      "text/html": [
       "<div>\n",
       "<style scoped>\n",
       "    .dataframe tbody tr th:only-of-type {\n",
       "        vertical-align: middle;\n",
       "    }\n",
       "\n",
       "    .dataframe tbody tr th {\n",
       "        vertical-align: top;\n",
       "    }\n",
       "\n",
       "    .dataframe thead th {\n",
       "        text-align: right;\n",
       "    }\n",
       "</style>\n",
       "<table border=\"1\" class=\"dataframe\">\n",
       "  <thead>\n",
       "    <tr style=\"text-align: right;\">\n",
       "      <th></th>\n",
       "      <th>title</th>\n",
       "      <th>abstract</th>\n",
       "      <th>ComputerScience</th>\n",
       "    </tr>\n",
       "  </thead>\n",
       "  <tbody>\n",
       "    <tr>\n",
       "      <th>0</th>\n",
       "      <td>reconstructing subject-specific effect maps</td>\n",
       "      <td>predictive models allow subject-specific inf...</td>\n",
       "      <td>1</td>\n",
       "    </tr>\n",
       "    <tr>\n",
       "      <th>1</th>\n",
       "      <td>rotation invariance neural network</td>\n",
       "      <td>rotation invariance and translation invarian...</td>\n",
       "      <td>1</td>\n",
       "    </tr>\n",
       "    <tr>\n",
       "      <th>2</th>\n",
       "      <td>spherical polyharmonics and poisson kernels fo...</td>\n",
       "      <td>we introduce and develop the notion of spher...</td>\n",
       "      <td>0</td>\n",
       "    </tr>\n",
       "    <tr>\n",
       "      <th>3</th>\n",
       "      <td>a finite element approximation for the stochas...</td>\n",
       "      <td>the stochastic landau--lifshitz--gilbert (ll...</td>\n",
       "      <td>0</td>\n",
       "    </tr>\n",
       "    <tr>\n",
       "      <th>4</th>\n",
       "      <td>comparative study of discrete wavelet transfor...</td>\n",
       "      <td>fourier-transform infra-red (ftir) spectra o...</td>\n",
       "      <td>1</td>\n",
       "    </tr>\n",
       "  </tbody>\n",
       "</table>\n",
       "</div>"
      ],
      "text/plain": [
       "                                               title  \\\n",
       "0        reconstructing subject-specific effect maps   \n",
       "1                 rotation invariance neural network   \n",
       "2  spherical polyharmonics and poisson kernels fo...   \n",
       "3  a finite element approximation for the stochas...   \n",
       "4  comparative study of discrete wavelet transfor...   \n",
       "\n",
       "                                            abstract  ComputerScience  \n",
       "0    predictive models allow subject-specific inf...                1  \n",
       "1    rotation invariance and translation invarian...                1  \n",
       "2    we introduce and develop the notion of spher...                0  \n",
       "3    the stochastic landau--lifshitz--gilbert (ll...                0  \n",
       "4    fourier-transform infra-red (ftir) spectra o...                1  "
      ]
     },
     "execution_count": 10,
     "metadata": {},
     "output_type": "execute_result"
    }
   ],
   "source": [
    "# Converting to lower case\n",
    "\n",
    "df['title'] = df['title'].str.lower()\n",
    "df['abstract'] = df['abstract'].str.lower()\n",
    "df.head()"
   ]
  },
  {
   "cell_type": "code",
   "execution_count": 11,
   "metadata": {},
   "outputs": [
    {
     "data": {
      "text/html": [
       "<div>\n",
       "<style scoped>\n",
       "    .dataframe tbody tr th:only-of-type {\n",
       "        vertical-align: middle;\n",
       "    }\n",
       "\n",
       "    .dataframe tbody tr th {\n",
       "        vertical-align: top;\n",
       "    }\n",
       "\n",
       "    .dataframe thead th {\n",
       "        text-align: right;\n",
       "    }\n",
       "</style>\n",
       "<table border=\"1\" class=\"dataframe\">\n",
       "  <thead>\n",
       "    <tr style=\"text-align: right;\">\n",
       "      <th></th>\n",
       "      <th>title</th>\n",
       "      <th>abstract</th>\n",
       "      <th>ComputerScience</th>\n",
       "    </tr>\n",
       "  </thead>\n",
       "  <tbody>\n",
       "    <tr>\n",
       "      <th>0</th>\n",
       "      <td>reconstructing subject specific effect maps</td>\n",
       "      <td>predictive models allow subject specific inf...</td>\n",
       "      <td>1</td>\n",
       "    </tr>\n",
       "    <tr>\n",
       "      <th>1</th>\n",
       "      <td>rotation invariance neural network</td>\n",
       "      <td>rotation invariance and translation invarian...</td>\n",
       "      <td>1</td>\n",
       "    </tr>\n",
       "    <tr>\n",
       "      <th>2</th>\n",
       "      <td>spherical polyharmonics and poisson kernels fo...</td>\n",
       "      <td>we introduce and develop the notion of spher...</td>\n",
       "      <td>0</td>\n",
       "    </tr>\n",
       "    <tr>\n",
       "      <th>3</th>\n",
       "      <td>a finite element approximation for the stochas...</td>\n",
       "      <td>the stochastic landau  lifshitz  gilbert  ll...</td>\n",
       "      <td>0</td>\n",
       "    </tr>\n",
       "    <tr>\n",
       "      <th>4</th>\n",
       "      <td>comparative study of discrete wavelet transfor...</td>\n",
       "      <td>fourier transform infra red  ftir  spectra o...</td>\n",
       "      <td>1</td>\n",
       "    </tr>\n",
       "  </tbody>\n",
       "</table>\n",
       "</div>"
      ],
      "text/plain": [
       "                                               title  \\\n",
       "0        reconstructing subject specific effect maps   \n",
       "1                 rotation invariance neural network   \n",
       "2  spherical polyharmonics and poisson kernels fo...   \n",
       "3  a finite element approximation for the stochas...   \n",
       "4  comparative study of discrete wavelet transfor...   \n",
       "\n",
       "                                            abstract  ComputerScience  \n",
       "0    predictive models allow subject specific inf...                1  \n",
       "1    rotation invariance and translation invarian...                1  \n",
       "2    we introduce and develop the notion of spher...                0  \n",
       "3    the stochastic landau  lifshitz  gilbert  ll...                0  \n",
       "4    fourier transform infra red  ftir  spectra o...                1  "
      ]
     },
     "execution_count": 11,
     "metadata": {},
     "output_type": "execute_result"
    }
   ],
   "source": [
    "# Removing Punctuations, Numbers, and Special Characters\n",
    "\n",
    "df['title'] = df['title'].str.replace(\"[^a-zA-z]\", \" \") \n",
    "df['abstract'] = df['abstract'].str.replace(\"[^a-zA-z]\", \" \") \n",
    "df.head()"
   ]
  },
  {
   "cell_type": "code",
   "execution_count": 12,
   "metadata": {},
   "outputs": [
    {
     "data": {
      "text/html": [
       "<div>\n",
       "<style scoped>\n",
       "    .dataframe tbody tr th:only-of-type {\n",
       "        vertical-align: middle;\n",
       "    }\n",
       "\n",
       "    .dataframe tbody tr th {\n",
       "        vertical-align: top;\n",
       "    }\n",
       "\n",
       "    .dataframe thead th {\n",
       "        text-align: right;\n",
       "    }\n",
       "</style>\n",
       "<table border=\"1\" class=\"dataframe\">\n",
       "  <thead>\n",
       "    <tr style=\"text-align: right;\">\n",
       "      <th></th>\n",
       "      <th>title</th>\n",
       "      <th>abstract</th>\n",
       "      <th>ComputerScience</th>\n",
       "    </tr>\n",
       "  </thead>\n",
       "  <tbody>\n",
       "    <tr>\n",
       "      <th>0</th>\n",
       "      <td>reconstructing subject specific effect maps</td>\n",
       "      <td>predictive models allow subject specific infer...</td>\n",
       "      <td>1</td>\n",
       "    </tr>\n",
       "    <tr>\n",
       "      <th>1</th>\n",
       "      <td>rotation invariance neural network</td>\n",
       "      <td>rotation invariance translation invariance hav...</td>\n",
       "      <td>1</td>\n",
       "    </tr>\n",
       "    <tr>\n",
       "      <th>2</th>\n",
       "      <td>spherical polyharmonics poisson kernels polyha...</td>\n",
       "      <td>introduce develop notion spherical polyharmoni...</td>\n",
       "      <td>0</td>\n",
       "    </tr>\n",
       "    <tr>\n",
       "      <th>3</th>\n",
       "      <td>finite element approximation stochastic maxwel...</td>\n",
       "      <td>stochastic landau lifshitz gilbert equation co...</td>\n",
       "      <td>0</td>\n",
       "    </tr>\n",
       "    <tr>\n",
       "      <th>4</th>\n",
       "      <td>comparative study discrete wavelet transforms ...</td>\n",
       "      <td>fourier transform infra ftir spectra samples f...</td>\n",
       "      <td>1</td>\n",
       "    </tr>\n",
       "  </tbody>\n",
       "</table>\n",
       "</div>"
      ],
      "text/plain": [
       "                                               title  \\\n",
       "0        reconstructing subject specific effect maps   \n",
       "1                 rotation invariance neural network   \n",
       "2  spherical polyharmonics poisson kernels polyha...   \n",
       "3  finite element approximation stochastic maxwel...   \n",
       "4  comparative study discrete wavelet transforms ...   \n",
       "\n",
       "                                            abstract  ComputerScience  \n",
       "0  predictive models allow subject specific infer...                1  \n",
       "1  rotation invariance translation invariance hav...                1  \n",
       "2  introduce develop notion spherical polyharmoni...                0  \n",
       "3  stochastic landau lifshitz gilbert equation co...                0  \n",
       "4  fourier transform infra ftir spectra samples f...                1  "
      ]
     },
     "execution_count": 12,
     "metadata": {},
     "output_type": "execute_result"
    }
   ],
   "source": [
    "#Removing Short Words\n",
    "\n",
    "df['title'] = df['title'].apply(lambda old_string: ' '.join([w for w in old_string.split() if len(w)>3]))\n",
    "df['abstract'] = df['abstract'].apply(lambda old_string: ' '.join([w for w in old_string.split() if len(w)>3]))\n",
    "df.head()"
   ]
  },
  {
   "cell_type": "code",
   "execution_count": 13,
   "metadata": {},
   "outputs": [
    {
     "data": {
      "text/html": [
       "<div>\n",
       "<style scoped>\n",
       "    .dataframe tbody tr th:only-of-type {\n",
       "        vertical-align: middle;\n",
       "    }\n",
       "\n",
       "    .dataframe tbody tr th {\n",
       "        vertical-align: top;\n",
       "    }\n",
       "\n",
       "    .dataframe thead th {\n",
       "        text-align: right;\n",
       "    }\n",
       "</style>\n",
       "<table border=\"1\" class=\"dataframe\">\n",
       "  <thead>\n",
       "    <tr style=\"text-align: right;\">\n",
       "      <th></th>\n",
       "      <th>title</th>\n",
       "      <th>abstract</th>\n",
       "      <th>ComputerScience</th>\n",
       "    </tr>\n",
       "  </thead>\n",
       "  <tbody>\n",
       "    <tr>\n",
       "      <th>0</th>\n",
       "      <td>reconstructing subject specific effect map</td>\n",
       "      <td>predictive model allow subject specific infere...</td>\n",
       "      <td>1</td>\n",
       "    </tr>\n",
       "    <tr>\n",
       "      <th>1</th>\n",
       "      <td>rotation invariance neural network</td>\n",
       "      <td>rotation invariance translation invariance hav...</td>\n",
       "      <td>1</td>\n",
       "    </tr>\n",
       "    <tr>\n",
       "      <th>2</th>\n",
       "      <td>spherical polyharmonics poisson kernel polyhar...</td>\n",
       "      <td>introduce develop notion spherical polyharmoni...</td>\n",
       "      <td>0</td>\n",
       "    </tr>\n",
       "    <tr>\n",
       "      <th>3</th>\n",
       "      <td>finite element approximation stochastic maxwel...</td>\n",
       "      <td>stochastic landau lifshitz gilbert equation co...</td>\n",
       "      <td>0</td>\n",
       "    </tr>\n",
       "    <tr>\n",
       "      <th>4</th>\n",
       "      <td>comparative study discrete wavelet transforms ...</td>\n",
       "      <td>fourier transform infra ftir spectrum sample f...</td>\n",
       "      <td>1</td>\n",
       "    </tr>\n",
       "  </tbody>\n",
       "</table>\n",
       "</div>"
      ],
      "text/plain": [
       "                                               title  \\\n",
       "0         reconstructing subject specific effect map   \n",
       "1                 rotation invariance neural network   \n",
       "2  spherical polyharmonics poisson kernel polyhar...   \n",
       "3  finite element approximation stochastic maxwel...   \n",
       "4  comparative study discrete wavelet transforms ...   \n",
       "\n",
       "                                            abstract  ComputerScience  \n",
       "0  predictive model allow subject specific infere...                1  \n",
       "1  rotation invariance translation invariance hav...                1  \n",
       "2  introduce develop notion spherical polyharmoni...                0  \n",
       "3  stochastic landau lifshitz gilbert equation co...                0  \n",
       "4  fourier transform infra ftir spectrum sample f...                1  "
      ]
     },
     "execution_count": 13,
     "metadata": {},
     "output_type": "execute_result"
    }
   ],
   "source": [
    "# lemmatization words using NLTK\n",
    "\n",
    "wnlemma = WordNetLemmatizer()\n",
    "\n",
    "df['title'] = df['title'].apply(lambda text: ' '.join([wnlemma.lemmatize(word) for word in text.split()]))\n",
    "df['abstract'] = df['abstract'].apply(lambda text: ' '.join([wnlemma.lemmatize(word) for word in text.split()]))\n",
    "df.head()"
   ]
  },
  {
   "cell_type": "code",
   "execution_count": 14,
   "metadata": {},
   "outputs": [
    {
     "name": "stdout",
     "output_type": "stream",
     "text": [
      "(20972, 2)\n",
      "(20972,)\n"
     ]
    }
   ],
   "source": [
    "df_Y = df['ComputerScience'].values\n",
    "df_X = df.drop(['ComputerScience'], axis=1)\n",
    "\n",
    "print(df_X.shape)\n",
    "print(df_Y.shape)"
   ]
  },
  {
   "cell_type": "code",
   "execution_count": 15,
   "metadata": {},
   "outputs": [],
   "source": [
    "#---1.2 Splitting data into Train and cross validation(or test): Stratified Sampling\n",
    "\n",
    "X_train, X_test, Y_train, Y_test = train_test_split(df_X, df_Y, test_size=0.2, stratify=df_Y,random_state=42)\n"
   ]
  },
  {
   "cell_type": "markdown",
   "metadata": {},
   "source": [
    "# SET 1 - Encoding text features using BOW"
   ]
  },
  {
   "cell_type": "code",
   "execution_count": 16,
   "metadata": {},
   "outputs": [
    {
     "name": "stdout",
     "output_type": "stream",
     "text": [
      "After vectorizations\n",
      "(16777, 2000) (16777,)\n",
      "(4195, 2000) (4195,)\n"
     ]
    }
   ],
   "source": [
    "cv = CountVectorizer(min_df=10, max_features=2000)\n",
    "cv.fit(X_train['title'].values)\n",
    "\n",
    "# we use the fitted CountVectorizer to convert the text to vector\n",
    "X_train_title_bow = cv.transform(X_train['title'].values)\n",
    "X_test_title_bow = cv.transform(X_test['title'].values)\n",
    "\n",
    "print(\"After vectorizations\")\n",
    "print(X_train_title_bow.shape, Y_train.shape)\n",
    "print(X_test_title_bow.shape, Y_test.shape)\n"
   ]
  },
  {
   "cell_type": "code",
   "execution_count": 17,
   "metadata": {},
   "outputs": [
    {
     "name": "stdout",
     "output_type": "stream",
     "text": [
      "After vectorizations\n",
      "(16777, 7000) (16777,)\n",
      "(4195, 7000) (4195,)\n"
     ]
    }
   ],
   "source": [
    "cv = CountVectorizer(min_df=10, max_features=7000,stop_words = 'english')\n",
    "cv.fit(X_train['abstract'].values)\n",
    "\n",
    "# we use the fitted CountVectorizer to convert the text to vector\n",
    "X_train_abstract_bow = cv.transform(X_train['abstract'].values)\n",
    "X_test_abstract_bow = cv.transform(X_test['abstract'].values)\n",
    "\n",
    "print(\"After vectorizations\")\n",
    "print(X_train_abstract_bow.shape, Y_train.shape)\n",
    "print(X_test_abstract_bow.shape, Y_test.shape)\n"
   ]
  },
  {
   "cell_type": "code",
   "execution_count": 18,
   "metadata": {},
   "outputs": [
    {
     "name": "stdout",
     "output_type": "stream",
     "text": [
      "Final Data matrix 1\n",
      "(16777, 9000) (16777,)\n",
      "(4195, 9000) (4195,)\n"
     ]
    }
   ],
   "source": [
    "# --- Concatinating all the features\n",
    "\n",
    "X_tr1 = hstack((X_train_title_bow, X_train_abstract_bow)).tocsr()\n",
    "X_te1 = hstack((X_test_title_bow, X_test_abstract_bow)).tocsr()\n",
    "\n",
    "print(\"Final Data matrix 1\")\n",
    "print(X_tr1.shape, Y_train.shape)\n",
    "print(X_te1.shape, Y_test.shape)"
   ]
  },
  {
   "cell_type": "markdown",
   "metadata": {},
   "source": [
    "# Modelling BOW Features"
   ]
  },
  {
   "cell_type": "markdown",
   "metadata": {},
   "source": [
    "# 1.1 KNN"
   ]
  },
  {
   "cell_type": "code",
   "execution_count": 26,
   "metadata": {},
   "outputs": [
    {
     "name": "stdout",
     "output_type": "stream",
     "text": [
      "Best Hyper Parameters:\n",
      " {'weights': 'distance', 'n_neighbors': 6, 'n_jobs': -1, 'leaf_size': 3, 'algorithm': 'ball_tree'}\n"
     ]
    }
   ],
   "source": [
    "knn1 = KNeighborsClassifier()\n",
    "\n",
    "#Hyper Parameters Set\n",
    "params = {'n_neighbors':[5,6,7,8,9,10],\n",
    "          'leaf_size':[1,2,3,5],\n",
    "          'weights':['uniform', 'distance'],\n",
    "          'algorithm':['auto', 'ball_tree','kd_tree','brute']}\n",
    "\n",
    "#Making models with hyper parameters sets\n",
    "model11 = RandomizedSearchCV(knn1, param_distributions = params,cv = 3, random_state = 34, n_jobs=1)\n",
    "\n",
    "model11.fit(X_tr1,Y_train)\n",
    "\n",
    "#The best hyper parameters set\n",
    "print(\"Best Hyper Parameters:\\n\",model11.best_params_)\n"
   ]
  },
  {
   "cell_type": "code",
   "execution_count": 19,
   "metadata": {},
   "outputs": [
    {
     "name": "stdout",
     "output_type": "stream",
     "text": [
      "0.6798569725864124\n"
     ]
    }
   ],
   "source": [
    "knn1 = KNeighborsClassifier(weights = 'distance', n_neighbors =6, n_jobs= -1, leaf_size= 3, algorithm= 'ball_tree')\n",
    "\n",
    "knn1.fit(X_tr1,Y_train)\n",
    "\n",
    "knn1_pred = knn1.predict(X_te1)\n",
    "\n",
    "print(accuracy_score(Y_test,knn1_pred))"
   ]
  },
  {
   "cell_type": "markdown",
   "metadata": {},
   "source": [
    "# 1.2 LR"
   ]
  },
  {
   "cell_type": "code",
   "execution_count": 21,
   "metadata": {},
   "outputs": [
    {
     "name": "stdout",
     "output_type": "stream",
     "text": [
      "Best Hyper Parameters:\n",
      " {'penalty': 'l2', 'C': 0.1}\n"
     ]
    }
   ],
   "source": [
    "lr1 = LogisticRegression()\n",
    "\n",
    "#Hyper Parameters Set\n",
    "params = {'penalty': ['l1', 'l2', 'elasticnet'],\n",
    "          'C': [0.001,0.01,0.1,1,10,100]}\n",
    "\n",
    "#Making models with hyper parameters sets\n",
    "model12 = RandomizedSearchCV(lr1, param_distributions = params,cv = 3, random_state = 34, n_jobs=1)\n",
    "\n",
    "model12.fit(X_tr1,Y_train)\n",
    "\n",
    "#The best hyper parameters set\n",
    "print(\"Best Hyper Parameters:\\n\",model12.best_params_)\n"
   ]
  },
  {
   "cell_type": "code",
   "execution_count": 23,
   "metadata": {},
   "outputs": [
    {
     "name": "stdout",
     "output_type": "stream",
     "text": [
      "0.8481525625744935\n"
     ]
    }
   ],
   "source": [
    "lr1 = LogisticRegression(C = 0.1, penalty = 'l2')\n",
    "\n",
    "lr1.fit(X_tr1, Y_train)\n",
    "\n",
    "lr1_pred = lr1.predict(X_te1)\n",
    "\n",
    "print(accuracy_score(Y_test,lr1_pred))\n"
   ]
  },
  {
   "cell_type": "markdown",
   "metadata": {},
   "source": [
    "# 1.3 SVM"
   ]
  },
  {
   "cell_type": "code",
   "execution_count": 74,
   "metadata": {},
   "outputs": [
    {
     "name": "stdout",
     "output_type": "stream",
     "text": [
      "Best Hyper Parameters:\n",
      " {'kernel': 'rbf', 'C': 1}\n"
     ]
    }
   ],
   "source": [
    "#making the instance\n",
    "svc1 = SVC()\n",
    "\n",
    "#Hyper Parameters Set\n",
    "params = {'kernel': ['linear','rbf'], \n",
    "          'C' : [1,3]}\n",
    "\n",
    "#Making models with hyper parameters sets\n",
    "model13 = RandomizedSearchCV(svc1, param_distributions = params,cv = 3, random_state = 34, n_jobs=1)\n",
    "\n",
    "#Learning\n",
    "model13.fit(X_tr1,Y_train)\n",
    "\n",
    "#The best hyper parameters set\n",
    "print(\"Best Hyper Parameters:\\n\",model13.best_params_)\n"
   ]
  },
  {
   "cell_type": "code",
   "execution_count": 33,
   "metadata": {},
   "outputs": [
    {
     "name": "stdout",
     "output_type": "stream",
     "text": [
      "0.8638855780691299\n"
     ]
    }
   ],
   "source": [
    "svc1 = SVC(kernel = 'rbf', C = 1)\n",
    "\n",
    "#Learning\n",
    "svc1.fit(X_tr1, Y_train)\n",
    "\n",
    "#Prediction\n",
    "svc1_pred = svc1.predict(X_te1)\n",
    "\n",
    "#evaluation(Accuracy)\n",
    "print(accuracy_score(Y_test,svc1_pred))"
   ]
  },
  {
   "cell_type": "markdown",
   "metadata": {},
   "source": [
    "# 1.4 NB"
   ]
  },
  {
   "cell_type": "code",
   "execution_count": 57,
   "metadata": {},
   "outputs": [
    {
     "name": "stdout",
     "output_type": "stream",
     "text": [
      "Best Hyper Parameters:\n",
      " {'alpha': 0.1}\n"
     ]
    }
   ],
   "source": [
    "#making the instance\n",
    "bnb1 = BernoulliNB()\n",
    "\n",
    "#Hyper Parameters Set\n",
    "params = {'alpha': [0.1, 0.25, 0.5,0.75, 1.0, 1.25 ]}\n",
    "\n",
    "#Making models with hyper parameters sets\n",
    "model14 = RandomizedSearchCV(bnb1, param_distributions = params,cv = 3, random_state = 34, n_jobs=1)\n",
    "\n",
    "#Learning\n",
    "model14.fit(X_tr1,Y_train)\n",
    "\n",
    "#The best hyper parameters set\n",
    "print(\"Best Hyper Parameters:\\n\",model14.best_params_)\n"
   ]
  },
  {
   "cell_type": "code",
   "execution_count": 58,
   "metadata": {},
   "outputs": [
    {
     "name": "stdout",
     "output_type": "stream",
     "text": [
      "0.8448152562574494\n"
     ]
    }
   ],
   "source": [
    "bnb1 = BernoulliNB(alpha = 0.1)\n",
    "\n",
    "#Learning\n",
    "bnb1.fit(X_tr1, Y_train)\n",
    "\n",
    "#Prediction\n",
    "bnb1_pred = bnb1.predict(X_te1)\n",
    "\n",
    "#evaluation(Accuracy)\n",
    "print(accuracy_score(Y_test,bnb1_pred))"
   ]
  },
  {
   "cell_type": "markdown",
   "metadata": {},
   "source": [
    "# 1.5 DT"
   ]
  },
  {
   "cell_type": "code",
   "execution_count": 24,
   "metadata": {},
   "outputs": [
    {
     "name": "stdout",
     "output_type": "stream",
     "text": [
      "Best Hyper Parameters:\n",
      " {'min_samples_split': 6, 'min_samples_leaf': 10, 'max_features': 'sqrt'}\n"
     ]
    }
   ],
   "source": [
    "#making the instance\n",
    "dt1 = DecisionTreeClassifier()\n",
    "\n",
    "#Hyper Parameters Set\n",
    "params = {'max_features': ['auto', 'sqrt', 'log2'],\n",
    "          'min_samples_split': [2,3,4,5,6,7,8,9,10,11,12,13,14,15], \n",
    "          'min_samples_leaf':[1,2,3,4,5,6,7,8,9,10,11]}\n",
    "\n",
    "#Making models with hyper parameters sets\n",
    "model15 = RandomizedSearchCV(dt1, param_distributions = params, cv = 3, random_state = 34, n_jobs=-1)\n",
    "\n",
    "#Learning\n",
    "model15.fit(X_tr1,Y_train)\n",
    "\n",
    "#The best hyper parameters set\n",
    "print(\"Best Hyper Parameters:\\n\",model15.best_params_)\n"
   ]
  },
  {
   "cell_type": "code",
   "execution_count": 25,
   "metadata": {},
   "outputs": [
    {
     "name": "stdout",
     "output_type": "stream",
     "text": [
      "0.7389749702026222\n"
     ]
    }
   ],
   "source": [
    "dt1 = DecisionTreeClassifier(min_samples_split = 6,\n",
    "                             min_samples_leaf = 10,\n",
    "                             max_features = 'sqrt')\n",
    "\n",
    "#Learning\n",
    "dt1.fit(X_tr1, Y_train)\n",
    "\n",
    "#Prediction\n",
    "dt1_pred = dt1.predict(X_te1)\n",
    "\n",
    "#evaluation(Accuracy)\n",
    "print(accuracy_score(Y_test,dt1_pred))"
   ]
  },
  {
   "cell_type": "markdown",
   "metadata": {},
   "source": [
    "# 1.6 RF"
   ]
  },
  {
   "cell_type": "code",
   "execution_count": 26,
   "metadata": {},
   "outputs": [
    {
     "name": "stdout",
     "output_type": "stream",
     "text": [
      "Best Hyper Parameters:\n",
      " {'n_estimators': 25, 'min_samples_split': 5, 'min_samples_leaf': 3, 'criterion': 'entropy'}\n"
     ]
    }
   ],
   "source": [
    "#making the instance\n",
    "rf1 = RandomForestClassifier()\n",
    "\n",
    "#hyper parameters set\n",
    "params = {'criterion':['gini','entropy'],\n",
    "          'n_estimators':[10,15,20,25,30],\n",
    "          'min_samples_leaf':[1,2,3],\n",
    "          'min_samples_split':[3,4,5,6,7]}\n",
    "\n",
    "#Making models with hyper parameters sets\n",
    "model16 = RandomizedSearchCV(rf1, param_distributions = params, cv = 3, random_state = 34, n_jobs=-1)\n",
    "\n",
    "#Learning\n",
    "model16.fit(X_tr1,Y_train)\n",
    "\n",
    "#The best hyper parameters set\n",
    "print(\"Best Hyper Parameters:\\n\",model16.best_params_)"
   ]
  },
  {
   "cell_type": "code",
   "execution_count": 29,
   "metadata": {},
   "outputs": [
    {
     "name": "stdout",
     "output_type": "stream",
     "text": [
      "0.834564958283671\n"
     ]
    }
   ],
   "source": [
    "rf1 = RandomForestClassifier(criterion='entropy',\n",
    "                             n_estimators = 25,\n",
    "                             min_samples_split = 5,\n",
    "                             min_samples_leaf = 3)\n",
    "\n",
    "#Learning\n",
    "rf1.fit(X_tr1, Y_train)\n",
    "\n",
    "#Prediction\n",
    "rf1_pred = rf1.predict(X_te1)\n",
    "\n",
    "#evaluation(Accuracy)\n",
    "print(accuracy_score(Y_test,rf1_pred))"
   ]
  },
  {
   "cell_type": "markdown",
   "metadata": {},
   "source": [
    "# 1.7 XGBoost"
   ]
  },
  {
   "cell_type": "code",
   "execution_count": 43,
   "metadata": {},
   "outputs": [
    {
     "name": "stdout",
     "output_type": "stream",
     "text": [
      "Best Hyper Parameters:\n",
      " {'subsample': 0.8, 'objective': 'binary:logistic', 'n_estimators': 700, 'max_depth': 7, 'learning_rate': 0.1, 'colsample_bytree': 0.9}\n"
     ]
    }
   ],
   "source": [
    "#making the instance\n",
    "xgb1 = XGBClassifier()\n",
    "\n",
    "#hyper parameters set\n",
    "params = {'objective' : ['binary:logistic'],\n",
    "          'learning_rate' : [0.05, 0.1, 0.5, 1],\n",
    "          'max_depth' : [3,5,7],\n",
    "          'n_estimators':[100,400,700,1000],\n",
    "          'subsample' : [0.7, 0.8, 0.9],\n",
    "          'colsample_bytree' : [0.7, 0.8, 0.9]}\n",
    "\n",
    "#Making models with hyper parameters sets\n",
    "model17 = RandomizedSearchCV(xgb1, param_distributions = params, cv = 3, random_state = 34, n_jobs=-1)\n",
    "\n",
    "#Learning\n",
    "model17.fit(X_tr1,Y_train)\n",
    "\n",
    "#The best hyper parameters set\n",
    "print(\"Best Hyper Parameters:\\n\",model17.best_params_)"
   ]
  },
  {
   "cell_type": "code",
   "execution_count": 44,
   "metadata": {},
   "outputs": [
    {
     "name": "stdout",
     "output_type": "stream",
     "text": [
      "0.8626936829558999\n"
     ]
    }
   ],
   "source": [
    "xgb1 = XGBClassifier(learning_rate =0.1,\n",
    "                     n_estimators=700,\n",
    "                     max_depth=7,\n",
    "                     gamma=0,\n",
    "                     subsample=0.8,\n",
    "                     colsample_bytree=0.9,\n",
    "                     objective= 'binary:logistic')\n",
    "\n",
    "#Learning\n",
    "xgb1.fit(X_tr1, Y_train)\n",
    "\n",
    "#Prediction\n",
    "xgb1_pred = xgb1.predict(X_te1)\n",
    "\n",
    "#evaluation(Accuracy)\n",
    "print(accuracy_score(Y_test,xgb1_pred))"
   ]
  },
  {
   "cell_type": "markdown",
   "metadata": {},
   "source": [
    "# 1.8 GradientBoostingClassifier"
   ]
  },
  {
   "cell_type": "code",
   "execution_count": 34,
   "metadata": {},
   "outputs": [
    {
     "name": "stdout",
     "output_type": "stream",
     "text": [
      "Best Hyper Parameters:\n",
      " {'subsample': 0.7, 'n_estimators': 500, 'min_samples_split': 30, 'min_samples_leaf': 20, 'max_features': 'auto', 'max_depth': 7, 'loss': 'deviance', 'learning_rate': 0.1}\n"
     ]
    }
   ],
   "source": [
    "#making the instance\n",
    "gb1 = GradientBoostingClassifier()\n",
    "\n",
    "#hyper parameters set\n",
    "params = {'loss': ['deviance'],\n",
    "          'learning_rate' : [0.05, 0.1, 0.25, 0.5, 0.75, 1],\n",
    "          'n_estimators':[100, 300, 500, 1000],\n",
    "          'subsample' : [0.7, 0.8, 0.9],\n",
    "          'max_features': ['auto', 'sqrt', 'log2'],\n",
    "          'max_depth' : [3,5,7],\n",
    "          'min_samples_leaf':[5,10,20],\n",
    "          'min_samples_split':[20,30]}\n",
    "\n",
    "#Making models with hyper parameters sets\n",
    "model18 = RandomizedSearchCV(gb1, param_distributions = params, cv = 3, random_state = 34, n_jobs=-1)\n",
    "\n",
    "#Learning\n",
    "model18.fit(X_tr1,Y_train)\n",
    "\n",
    "#The best hyper parameters set\n",
    "print(\"Best Hyper Parameters:\\n\",model18.best_params_)"
   ]
  },
  {
   "cell_type": "code",
   "execution_count": 35,
   "metadata": {},
   "outputs": [
    {
     "name": "stdout",
     "output_type": "stream",
     "text": [
      "0.8541120381406436\n"
     ]
    }
   ],
   "source": [
    "gb1 = GradientBoostingClassifier(loss='deviance',\n",
    "                                 learning_rate = 0.1,\n",
    "                                 n_estimators = 500,\n",
    "                                 subsample = 0.7 ,\n",
    "                                 max_features = 'auto',\n",
    "                                 max_depth = 7,\n",
    "                                 min_samples_split = 30,\n",
    "                                 min_samples_leaf = 20)\n",
    "\n",
    "#Learning\n",
    "gb1.fit(X_tr1, Y_train)\n",
    "\n",
    "#Prediction\n",
    "gb1_pred = gb1.predict(X_te1)\n",
    "\n",
    "#evaluation(Accuracy)\n",
    "print(accuracy_score(Y_test,gb1_pred))"
   ]
  },
  {
   "cell_type": "markdown",
   "metadata": {},
   "source": [
    "# SET 2 - Encoding text features using TF-IDF"
   ]
  },
  {
   "cell_type": "code",
   "execution_count": 36,
   "metadata": {},
   "outputs": [
    {
     "name": "stdout",
     "output_type": "stream",
     "text": [
      "After vectorizations\n",
      "(16777, 2000) (16777,)\n",
      "(4195, 2000) (4195,)\n"
     ]
    }
   ],
   "source": [
    "tfv = TfidfVectorizer(min_df=10, max_features=2000)\n",
    "tfv.fit(X_train['title'].values)\n",
    "\n",
    "# we use the fitted TfidfVectorizer to convert the text to vector\n",
    "X_train_title_tfv = tfv.transform(X_train['title'].values)\n",
    "X_test_title_tfv = tfv.transform(X_test['title'].values)\n",
    "\n",
    "print(\"After vectorizations\")\n",
    "print(X_train_title_tfv.shape, Y_train.shape)\n",
    "print(X_test_title_tfv.shape, Y_test.shape)\n"
   ]
  },
  {
   "cell_type": "code",
   "execution_count": 37,
   "metadata": {},
   "outputs": [
    {
     "name": "stdout",
     "output_type": "stream",
     "text": [
      "After vectorizations\n",
      "(16777, 7000) (16777,)\n",
      "(4195, 7000) (4195,)\n"
     ]
    }
   ],
   "source": [
    "tfv = TfidfVectorizer(min_df=10, max_features=7000,stop_words = 'english')\n",
    "tfv.fit(X_train['abstract'].values)\n",
    "\n",
    "# we use the fitted TfidfVectorizer to convert the text to vector\n",
    "X_train_abstract_tfv = tfv.transform(X_train['abstract'].values)\n",
    "X_test_abstract_tfv = tfv.transform(X_test['abstract'].values)\n",
    "\n",
    "print(\"After vectorizations\")\n",
    "print(X_train_abstract_tfv.shape, Y_train.shape)\n",
    "print(X_test_abstract_tfv.shape, Y_test.shape)\n"
   ]
  },
  {
   "cell_type": "code",
   "execution_count": 38,
   "metadata": {},
   "outputs": [
    {
     "name": "stdout",
     "output_type": "stream",
     "text": [
      "Final Data matrix 1\n",
      "(16777, 9000) (16777,)\n",
      "(4195, 9000) (4195,)\n"
     ]
    }
   ],
   "source": [
    "# --- Concatinating all the features\n",
    "\n",
    "X_tr2 = hstack((X_train_title_tfv, X_train_abstract_tfv)).tocsr()\n",
    "X_te2 = hstack((X_test_title_tfv, X_test_abstract_tfv)).tocsr()\n",
    "\n",
    "print(\"Final Data matrix 1\")\n",
    "print(X_tr2.shape, Y_train.shape)\n",
    "print(X_te2.shape, Y_test.shape)"
   ]
  },
  {
   "cell_type": "markdown",
   "metadata": {},
   "source": [
    "# Modelling on TF-IDF Features"
   ]
  },
  {
   "cell_type": "markdown",
   "metadata": {},
   "source": [
    "# 2.1 KNN"
   ]
  },
  {
   "cell_type": "code",
   "execution_count": 41,
   "metadata": {},
   "outputs": [
    {
     "name": "stdout",
     "output_type": "stream",
     "text": [
      "Best Hyper Parameters:\n",
      " {'weights': 'distance', 'n_neighbors': 9, 'leaf_size': 1, 'algorithm': 'auto'}\n"
     ]
    }
   ],
   "source": [
    "knn2 = KNeighborsClassifier()\n",
    "\n",
    "#Hyper Parameters Set\n",
    "params = {'n_neighbors':[5,9,15,21],\n",
    "          'leaf_size':[1,2,3,5],\n",
    "          'weights':['uniform', 'distance'],\n",
    "          'algorithm':['auto', 'ball_tree','kd_tree','brute']}\n",
    "\n",
    "#Making models with hyper parameters sets\n",
    "model21 = RandomizedSearchCV(knn1, param_distributions = params,cv = 3, random_state = 34, n_jobs=1)\n",
    "\n",
    "model21.fit(X_tr2,Y_train)\n",
    "\n",
    "#The best hyper parameters set\n",
    "print(\"Best Hyper Parameters:\\n\",model21.best_params_)\n"
   ]
  },
  {
   "cell_type": "code",
   "execution_count": 45,
   "metadata": {},
   "outputs": [
    {
     "name": "stdout",
     "output_type": "stream",
     "text": [
      "0.8085816448152563\n"
     ]
    }
   ],
   "source": [
    "knn2 = KNeighborsClassifier(weights = 'distance', n_neighbors =9, n_jobs= -1, leaf_size= 1, algorithm= 'auto')\n",
    "\n",
    "knn2.fit(X_tr2,Y_train)\n",
    "\n",
    "knn2_pred = knn2.predict(X_te2)\n",
    "\n",
    "print(accuracy_score(Y_test,knn2_pred))"
   ]
  },
  {
   "cell_type": "markdown",
   "metadata": {},
   "source": [
    "# 2.2 LR"
   ]
  },
  {
   "cell_type": "code",
   "execution_count": 69,
   "metadata": {},
   "outputs": [
    {
     "name": "stdout",
     "output_type": "stream",
     "text": [
      "Best Hyper Parameters:\n",
      " {'penalty': 'l2', 'C': 0.1}\n"
     ]
    }
   ],
   "source": [
    "lr2 = LogisticRegression()\n",
    "\n",
    "#Hyper Parameters Set\n",
    "params = {'penalty': ['l1', 'l2', 'elasticnet'],\n",
    "          'C': [0.001,0.01,0.1,1,10,100]}\n",
    "\n",
    "#Making models with hyper parameters sets\n",
    "model22 = RandomizedSearchCV(lr2, param_distributions = params,cv = 3, random_state = 34, n_jobs=1)\n",
    "\n",
    "model22.fit(X_tr2,Y_train)\n",
    "\n",
    "#The best hyper parameters set\n",
    "print(\"Best Hyper Parameters:\\n\",model22.best_params_)\n"
   ]
  },
  {
   "cell_type": "code",
   "execution_count": 70,
   "metadata": {},
   "outputs": [
    {
     "name": "stdout",
     "output_type": "stream",
     "text": [
      "0.8412395709177592\n"
     ]
    }
   ],
   "source": [
    "lr2 = LogisticRegression(penalty = 'l2', C = 0.1)\n",
    "\n",
    "lr2.fit(X_tr2, Y_train)\n",
    "\n",
    "lr2_pred = lr2.predict(X_te2)\n",
    "\n",
    "print(accuracy_score(Y_test,lr2_pred))"
   ]
  },
  {
   "cell_type": "markdown",
   "metadata": {},
   "source": [
    "# 2.3 SVC"
   ]
  },
  {
   "cell_type": "code",
   "execution_count": 72,
   "metadata": {},
   "outputs": [
    {
     "name": "stdout",
     "output_type": "stream",
     "text": [
      "Best Hyper Parameters:\n",
      " {'kernel': 'rbf', 'C': 1}\n"
     ]
    }
   ],
   "source": [
    "#making the instance\n",
    "svc2 = SVC()\n",
    "\n",
    "#Hyper Parameters Set\n",
    "params = {'kernel': ['rbf'],\n",
    "         'C' : [1,3]}\n",
    "\n",
    "#Making models with hyper parameters sets\n",
    "model23 = RandomizedSearchCV(svc2, param_distributions = params,cv = 3, random_state = 34, n_jobs=1)\n",
    "\n",
    "#Learning\n",
    "model23.fit(X_tr2,Y_train)\n",
    "\n",
    "#The best hyper parameters set\n",
    "print(\"Best Hyper Parameters:\\n\",model23.best_params_)\n"
   ]
  },
  {
   "cell_type": "code",
   "execution_count": 47,
   "metadata": {},
   "outputs": [
    {
     "name": "stdout",
     "output_type": "stream",
     "text": [
      "0.8619785458879619\n"
     ]
    }
   ],
   "source": [
    "svc2 = SVC(kernel='rbf', C = 1)\n",
    "\n",
    "#Learning\n",
    "svc2.fit(X_tr2, Y_train)\n",
    "\n",
    "#Prediction\n",
    "svc2_pred = svc2.predict(X_te2)\n",
    "\n",
    "#evaluation(Accuracy)\n",
    "print(accuracy_score(Y_test,svc2_pred))"
   ]
  },
  {
   "cell_type": "markdown",
   "metadata": {},
   "source": [
    "# 2.4 NB"
   ]
  },
  {
   "cell_type": "code",
   "execution_count": 60,
   "metadata": {},
   "outputs": [
    {
     "name": "stdout",
     "output_type": "stream",
     "text": [
      "Best Hyper Parameters:\n",
      " {'alpha': 0.1}\n"
     ]
    }
   ],
   "source": [
    "#making the instance\n",
    "bnb2 = BernoulliNB()\n",
    "\n",
    "#Hyper Parameters Set\n",
    "params = {'alpha': [0.1, 0.25, 0.5,0.75, 1.0, 1.25 ]}\n",
    "\n",
    "#Making models with hyper parameters sets\n",
    "model24 = RandomizedSearchCV(bnb2, param_distributions = params,cv = 3, random_state = 34, n_jobs=1)\n",
    "\n",
    "#Learning\n",
    "model24.fit(X_tr2,Y_train)\n",
    "\n",
    "#The best hyper parameters set\n",
    "print(\"Best Hyper Parameters:\\n\",model24.best_params_)\n"
   ]
  },
  {
   "cell_type": "code",
   "execution_count": 61,
   "metadata": {},
   "outputs": [
    {
     "name": "stdout",
     "output_type": "stream",
     "text": [
      "0.8448152562574494\n"
     ]
    }
   ],
   "source": [
    "bnb2 = BernoulliNB(alpha = 0.1)\n",
    "\n",
    "#Learning\n",
    "bnb2.fit(X_tr2, Y_train)\n",
    "\n",
    "#Prediction\n",
    "bnb2_pred = bnb2.predict(X_te2)\n",
    "\n",
    "#evaluation(Accuracy)\n",
    "print(accuracy_score(Y_test,bnb2_pred))"
   ]
  },
  {
   "cell_type": "markdown",
   "metadata": {},
   "source": [
    "# 2.5 DT"
   ]
  },
  {
   "cell_type": "code",
   "execution_count": 48,
   "metadata": {},
   "outputs": [
    {
     "name": "stdout",
     "output_type": "stream",
     "text": [
      "Best Hyper Parameters:\n",
      " {'min_samples_split': 6, 'min_samples_leaf': 7, 'max_features': 'auto'}\n"
     ]
    }
   ],
   "source": [
    "#making the instance\n",
    "dt2 = DecisionTreeClassifier()\n",
    "\n",
    "#Hyper Parameters Set\n",
    "params = {'max_features': ['auto', 'sqrt', 'log2'],\n",
    "          'min_samples_split': [2,3,4,5,6,7,8,9,10,11,12,13,14,15], \n",
    "          'min_samples_leaf':[1,2,3,4,5,6,7,8,9,10,11]}\n",
    "\n",
    "#Making models with hyper parameters sets\n",
    "model25 = RandomizedSearchCV(dt2, param_distributions = params, cv = 3, random_state = 34, n_jobs=-1)\n",
    "\n",
    "#Learning\n",
    "model25.fit(X_tr2,Y_train)\n",
    "\n",
    "#The best hyper parameters set\n",
    "print(\"Best Hyper Parameters:\\n\",model25.best_params_)\n"
   ]
  },
  {
   "cell_type": "code",
   "execution_count": 49,
   "metadata": {},
   "outputs": [
    {
     "name": "stdout",
     "output_type": "stream",
     "text": [
      "0.7504171632896305\n"
     ]
    }
   ],
   "source": [
    "dt2 = DecisionTreeClassifier(min_samples_split = 6, \n",
    "                             min_samples_leaf = 7, \n",
    "                             max_features = 'auto')\n",
    "\n",
    "#Learning\n",
    "dt2.fit(X_tr2, Y_train)\n",
    "\n",
    "#Prediction\n",
    "dt2_pred = dt2.predict(X_te2)\n",
    "\n",
    "#evaluation(Accuracy)\n",
    "print(accuracy_score(Y_test,dt2_pred))"
   ]
  },
  {
   "cell_type": "markdown",
   "metadata": {},
   "source": [
    "# 2.6 RF"
   ]
  },
  {
   "cell_type": "code",
   "execution_count": 50,
   "metadata": {},
   "outputs": [
    {
     "name": "stdout",
     "output_type": "stream",
     "text": [
      "Best Hyper Parameters:\n",
      " {'n_estimators': 30, 'min_samples_split': 7, 'min_samples_leaf': 3, 'criterion': 'entropy'}\n"
     ]
    }
   ],
   "source": [
    "#making the instance\n",
    "rf2 = RandomForestClassifier()\n",
    "\n",
    "#hyper parameters set\n",
    "params = {'criterion':['gini','entropy'],\n",
    "          'n_estimators':[10,15,20,25,30],\n",
    "          'min_samples_leaf':[1,2,3],\n",
    "          'min_samples_split':[3,4,5,6,7]}\n",
    "\n",
    "#Making models with hyper parameters sets\n",
    "model26 = RandomizedSearchCV(rf2, param_distributions = params, cv = 3, random_state = 34, n_jobs=-1)\n",
    "\n",
    "#Learning\n",
    "model26.fit(X_tr2,Y_train)\n",
    "\n",
    "#The best hyper parameters set\n",
    "print(\"Best Hyper Parameters:\\n\",model26.best_params_)"
   ]
  },
  {
   "cell_type": "code",
   "execution_count": 51,
   "metadata": {},
   "outputs": [
    {
     "name": "stdout",
     "output_type": "stream",
     "text": [
      "0.8395709177592372\n"
     ]
    }
   ],
   "source": [
    "rf2 = RandomForestClassifier(n_estimators = 30, \n",
    "                             min_samples_split = 7, \n",
    "                             min_samples_leaf = 3, \n",
    "                             criterion = 'entropy')\n",
    "\n",
    "#Learning\n",
    "rf2.fit(X_tr2, Y_train)\n",
    "\n",
    "#Prediction\n",
    "rf2_pred = rf2.predict(X_te2)\n",
    "\n",
    "#evaluation(Accuracy)\n",
    "print(accuracy_score(Y_test,rf2_pred))"
   ]
  },
  {
   "cell_type": "markdown",
   "metadata": {},
   "source": [
    "# 2.7 XGBoost"
   ]
  },
  {
   "cell_type": "code",
   "execution_count": 52,
   "metadata": {},
   "outputs": [
    {
     "name": "stdout",
     "output_type": "stream",
     "text": [
      "Best Hyper Parameters:\n",
      " {'subsample': 0.8, 'objective': 'binary:logistic', 'n_estimators': 700, 'max_depth': 7, 'learning_rate': 0.1, 'colsample_bytree': 0.9}\n"
     ]
    }
   ],
   "source": [
    "#making the instance\n",
    "xgb2 = XGBClassifier()\n",
    "\n",
    "#hyper parameters set\n",
    "params = {'objective' : ['binary:logistic'],\n",
    "          'learning_rate' : [0.05, 0.1, 0.5, 1],\n",
    "          'max_depth' : [3,5,7],\n",
    "          'n_estimators':[100,400,700,1000],\n",
    "          'subsample' : [0.7, 0.8, 0.9],\n",
    "          'colsample_bytree' : [0.7, 0.8, 0.9]}\n",
    "\n",
    "#Making models with hyper parameters sets\n",
    "model27 = RandomizedSearchCV(xgb2, param_distributions = params, cv = 3, random_state = 34, n_jobs=-1)\n",
    "\n",
    "#Learning\n",
    "model27.fit(X_tr2,Y_train)\n",
    "\n",
    "#The best hyper parameters set\n",
    "print(\"Best Hyper Parameters:\\n\",model27.best_params_)"
   ]
  },
  {
   "cell_type": "code",
   "execution_count": 53,
   "metadata": {},
   "outputs": [
    {
     "name": "stdout",
     "output_type": "stream",
     "text": [
      "0.8529201430274136\n"
     ]
    }
   ],
   "source": [
    "xgb2 = XGBClassifier(learning_rate =0.1,\n",
    "                     n_estimators=700,\n",
    "                     max_depth=7,\n",
    "                     gamma=0,\n",
    "                     subsample=0.8,\n",
    "                     colsample_bytree=0.9,\n",
    "                     objective= 'binary:logistic')\n",
    "\n",
    "#Learning\n",
    "xgb2.fit(X_tr2, Y_train)\n",
    "\n",
    "#Prediction\n",
    "xgb2_pred = xgb2.predict(X_te2)\n",
    "\n",
    "#evaluation(Accuracy)\n",
    "print(accuracy_score(Y_test,xgb2_pred))"
   ]
  },
  {
   "cell_type": "markdown",
   "metadata": {},
   "source": [
    "# 2.8 GradientBoostingClassifier"
   ]
  },
  {
   "cell_type": "code",
   "execution_count": 54,
   "metadata": {},
   "outputs": [
    {
     "name": "stdout",
     "output_type": "stream",
     "text": [
      "Best Hyper Parameters:\n",
      " {'subsample': 0.7, 'n_estimators': 1000, 'min_samples_split': 30, 'min_samples_leaf': 5, 'max_features': 'sqrt', 'max_depth': 5, 'loss': 'deviance', 'learning_rate': 0.1}\n"
     ]
    }
   ],
   "source": [
    "#making the instance\n",
    "gb2 = GradientBoostingClassifier()\n",
    "\n",
    "#hyper parameters set\n",
    "params = {'loss': ['deviance'],\n",
    "          'learning_rate' : [0.05, 0.1, 0.5, 1],\n",
    "          'n_estimators':[100, 300, 500, 1000],\n",
    "          'subsample' : [0.7, 0.8, 0.9],\n",
    "          'max_features': ['auto', 'sqrt'],\n",
    "          'max_depth' : [3,5,7],\n",
    "          'min_samples_leaf':[5,10],\n",
    "          'min_samples_split':[20,30]}\n",
    "\n",
    "#Making models with hyper parameters sets\n",
    "model28 = RandomizedSearchCV(gb2, param_distributions = params, cv = 3, random_state = 34, n_jobs=-1)\n",
    "\n",
    "#Learning\n",
    "model28.fit(X_tr2,Y_train)\n",
    "\n",
    "#The best hyper parameters set\n",
    "print(\"Best Hyper Parameters:\\n\",model28.best_params_)"
   ]
  },
  {
   "cell_type": "code",
   "execution_count": 55,
   "metadata": {},
   "outputs": [
    {
     "name": "stdout",
     "output_type": "stream",
     "text": [
      "0.8529201430274136\n"
     ]
    }
   ],
   "source": [
    "gb2 = GradientBoostingClassifier(loss = 'deviance',\n",
    "                                 learning_rate = 0.1,\n",
    "                                 n_estimators = 1000,\n",
    "                                 subsample = 0.7 ,\n",
    "                                 max_features = 'sqrt',\n",
    "                                 max_depth = 5,\n",
    "                                 min_samples_split = 30,\n",
    "                                 min_samples_leaf = 5)\n",
    "\n",
    "#Learning\n",
    "gb2.fit(X_tr2, Y_train)\n",
    "\n",
    "#Prediction\n",
    "gb2_pred = gb2.predict(X_te2)\n",
    "\n",
    "#evaluation(Accuracy)\n",
    "print(accuracy_score(Y_test,gb2_pred))"
   ]
  }
 ],
 "metadata": {
  "kernelspec": {
   "display_name": "Python 3",
   "language": "python",
   "name": "python3"
  },
  "language_info": {
   "codemirror_mode": {
    "name": "ipython",
    "version": 3
   },
   "file_extension": ".py",
   "mimetype": "text/x-python",
   "name": "python",
   "nbconvert_exporter": "python",
   "pygments_lexer": "ipython3",
   "version": "3.8.3"
  }
 },
 "nbformat": 4,
 "nbformat_minor": 4
}
