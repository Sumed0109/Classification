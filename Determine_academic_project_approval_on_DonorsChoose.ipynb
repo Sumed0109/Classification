{
 "cells": [
  {
   "cell_type": "markdown",
   "metadata": {},
   "source": [
    "# Apply Naive Bayes on Donors Choose dataset"
   ]
  },
  {
   "cell_type": "markdown",
   "metadata": {},
   "source": [
    "### Dataset "
   ]
  },
  {
   "cell_type": "markdown",
   "metadata": {},
   "source": [
    "###### DonorsChoose.org receives hundreds of thousands of project proposals each year for classroom projects in need of funding. Right now, a large number of volunteers is needed to manually screen each submission before it's approved to be posted on the DonorsChoose.org website.\n",
    "\n",
    "Next year, DonorsChoose.org expects to receive close to 500,000 project proposals. As a result, there are three main problems they need to solve:\n",
    "\n",
    "How to scale current manual processes and resources to screen 500,000 projects so that they can be posted as quickly and as efficiently as possible\n",
    "How to increase the consistency of project vetting across different volunteers to improve the experience for teachers\n",
    "How to focus volunteer time on the applications that need the most assistance###### About the DonorsChoose Data Set\n",
    "\n",
    "The `train.csv` data set provided by DonorsChoose contains the following features:\n",
    "\n",
    "Feature | Description \n",
    "----------|---------------\n",
    "**`project_id`** | A unique identifier for the proposed project. **Example:** `p036502`   \n",
    "**`project_title`**    | Title of the project. **Examples:**<br><ul><li><code>Art Will Make You Happy!</code></li><li><code>First Grade Fun</code></li></ul> \n",
    "**`project_grade_category`** | Grade level of students for which the project is targeted. One of the following enumerated values: <br/><ul><li><code>Grades PreK-2</code></li><li><code>Grades 3-5</code></li><li><code>Grades 6-8</code></li><li><code>Grades 9-12</code></li></ul>  \n",
    " **`project_subject_categories`** | One or more (comma-separated) subject categories for the project from the following enumerated list of values:  <br/><ul><li><code>Applied Learning</code></li><li><code>Care &amp; Hunger</code></li><li><code>Health &amp; Sports</code></li><li><code>History &amp; Civics</code></li><li><code>Literacy &amp; Language</code></li><li><code>Math &amp; Science</code></li><li><code>Music &amp; The Arts</code></li><li><code>Special Needs</code></li><li><code>Warmth</code></li></ul><br/> **Examples:** <br/><ul><li><code>Music &amp; The Arts</code></li><li><code>Literacy &amp; Language, Math &amp; Science</code></li>  \n",
    "  **`school_state`** | State where school is located ([Two-letter U.S. postal code](https://en.wikipedia.org/wiki/List_of_U.S._state_abbreviations#Postal_codes)). **Example:** `WY`\n",
    "**`project_subject_subcategories`** | One or more (comma-separated) subject subcategories for the project. **Examples:** <br/><ul><li><code>Literacy</code></li><li><code>Literature &amp; Writing, Social Sciences</code></li></ul> \n",
    "**`project_resource_summary`** | An explanation of the resources needed for the project. **Example:** <br/><ul><li><code>My students need hands on literacy materials to manage sensory needs!</code</li></ul> \n",
    "**`project_essay_1`**    | First application essay<sup>*</sup>  \n",
    "**`project_essay_2`**    | Second application essay<sup>*</sup> \n",
    "**`project_essay_3`**    | Third application essay<sup>*</sup> \n",
    "**`project_essay_4`**    | Fourth application essay<sup>*</sup> \n",
    "**`project_submitted_datetime`** | Datetime when project application was submitted. **Example:** `2016-04-28 12:43:56.245`   \n",
    "**`teacher_id`** | A unique identifier for the teacher of the proposed project. **Example:** `bdf8baa8fedef6bfeec7ae4ff1c15c56`  \n",
    "**`teacher_prefix`** | Teacher's title. One of the following enumerated values: <br/><ul><li><code>nan</code></li><li><code>Dr.</code></li><li><code>Mr.</code></li><li><code>Mrs.</code></li><li><code>Ms.</code></li><li><code>Teacher.</code></li></ul>  \n",
    "**`teacher_number_of_previously_posted_projects`** | Number of project applications previously submitted by the same teacher. **Example:** `2` \n",
    "\n",
    "<sup>*</sup> See the section <b>Notes on the Essay Data</b> for more details about these features.\n",
    "\n",
    "Additionally, the `resources.csv` data set provides more data about the resources required for each project. Each line in this file represents a resource required by a project:\n",
    "\n",
    "Feature | Description \n",
    "----------|---------------\n",
    "**`id`** | A `project_id` value from the `train.csv` file.  **Example:** `p036502`   \n",
    "**`description`** | Desciption of the resource. **Example:** `Tenor Saxophone Reeds, Box of 25`   \n",
    "**`quantity`** | Quantity of the resource required. **Example:** `3`   \n",
    "**`price`** | Price of the resource required. **Example:** `9.95`   \n",
    "\n",
    "**Note:** Many projects require multiple resources. The `id` value corresponds to a `project_id` in train.csv, so you use it as a key to retrieve all resources needed for a project:\n",
    "\n",
    "The data set contains the following label (the value you will attempt to predict):\n",
    "\n",
    "Label | Description\n",
    "----------|---------------\n",
    "`project_is_approved` | A binary flag indicating whether DonorsChoose approved the project. A value of `0` indicates the project was not approved, and a value of `1` indicates the project was approved.###### Notes on the Essay Data\n",
    "\n",
    "<ul>\n",
    "Prior to May 17, 2016, the prompts for the essays were as follows:\n",
    "<li>__project_essay_1:__ \"Introduce us to your classroom\"</li>\n",
    "<li>__project_essay_2:__ \"Tell us more about your students\"</li>\n",
    "<li>__project_essay_3:__ \"Describe how your students will use the materials you're requesting\"</li>\n",
    "<li>__project_essay_3:__ \"Close by sharing why your project will make a difference\"</li>\n",
    "</ul>\n",
    "\n",
    "\n",
    "<ul>\n",
    "Starting on May 17, 2016, the number of essays was reduced from 4 to 2, and the prompts for the first 2 essays were changed to the following:<br>\n",
    "<li>__project_essay_1:__ \"Describe your students: What makes your students special? Specific details about their background, your neighborhood, and your school are all helpful.\"</li>\n",
    "<li>__project_essay_2:__ \"About your project: How will these materials make a difference in your students' learning and improve their school lives?\"</li>\n",
    "<br>For all projects with project_submitted_datetime of 2016-05-17 and later, the values of project_essay_3 and project_essay_4 will be NaN.\n",
    "</ul>\n"
   ]
  },
  {
   "cell_type": "markdown",
   "metadata": {},
   "source": [
    "### Objective "
   ]
  },
  {
   "cell_type": "markdown",
   "metadata": {},
   "source": [
    "###### The goal of the competition is to predict whether or not a DonorsChoose.org project proposal submitted by a teacher will be approved, using the text of project descriptions as well as additional metadata about the project, teacher, and school. DonorsChoose.org can then use this information to identify projects most likely to need further review before approval.\n",
    "\n",
    "Apply Multinomial NB on these feature sets\n",
    "* Set 1: categorical, numerical features + preprocessed_eassay (BOW)\n",
    "* Set 2: categorical, numerical features + preprocessed_eassay (TFIDF)\n",
    "    "
   ]
  },
  {
   "cell_type": "code",
   "execution_count": 1,
   "metadata": {},
   "outputs": [],
   "source": [
    "import pandas as pd\n",
    "import numpy as np\n",
    "from sklearn.feature_extraction.text import TfidfVectorizer\n",
    "from sklearn.feature_extraction.text import CountVectorizer\n",
    "from sklearn.metrics import confusion_matrix\n",
    "from sklearn.metrics import roc_curve, auc\n",
    "from sklearn.model_selection import train_test_split\n",
    "from sklearn.model_selection import RandomizedSearchCV\n",
    "from sklearn.naive_bayes import MultinomialNB\n",
    "from scipy.sparse import hstack\n",
    "from scipy.stats import randint as sp_randint\n",
    "from tqdm import tqdm\n",
    "from collections import Counter\n",
    "from prettytable import PrettyTable\n",
    "import matplotlib.pyplot as plt\n",
    "import math\n"
   ]
  },
  {
   "cell_type": "code",
   "execution_count": 2,
   "metadata": {},
   "outputs": [
    {
     "name": "stdout",
     "output_type": "stream",
     "text": [
      "Number of data points in train data (50000, 9)\n"
     ]
    }
   ],
   "source": [
    "#Loading data -- nrows=50,000\n",
    "\n",
    "data = pd.read_csv('preprocessed_data.csv', nrows=50000)\n",
    "print(\"Number of data points in train data\", data.shape)\n"
   ]
  },
  {
   "cell_type": "code",
   "execution_count": 3,
   "metadata": {},
   "outputs": [
    {
     "name": "stdout",
     "output_type": "stream",
     "text": [
      "(50000, 8)\n"
     ]
    }
   ],
   "source": [
    "y = data['project_is_approved'].values\n",
    "X = data.drop(['project_is_approved'], axis=1)\n",
    "print(X.shape)"
   ]
  },
  {
   "cell_type": "code",
   "execution_count": 4,
   "metadata": {},
   "outputs": [],
   "source": [
    "#---1.2 Splitting data into Train and cross validation(or test): Stratified Sampling\n",
    "\n",
    "X_train, X_test, y_train, y_test = train_test_split(X, y, test_size=0.33, stratify=y)\n",
    "X_train, X_cv, y_train, y_cv = train_test_split(X_train, y_train, test_size=0.33, stratify=y_train)\n"
   ]
  },
  {
   "cell_type": "code",
   "execution_count": 5,
   "metadata": {},
   "outputs": [
    {
     "name": "stdout",
     "output_type": "stream",
     "text": [
      "After vectorizations\n",
      "(22445, 5000) (22445,)\n",
      "(11055, 5000) (11055,)\n",
      "(16500, 5000) (16500,)\n"
     ]
    }
   ],
   "source": [
    "#----1.3 Make Data Model Ready: \n",
    "\n",
    "#--- Set 1: categorical, numerical features + preprocessed_eassay (BOW)\n",
    "\n",
    "# encoding text features: preprocessed_eassay (BOW)\n",
    "\n",
    "vectorizer = CountVectorizer(min_df=10,ngram_range=(1,4), max_features=5000)\n",
    "vectorizer.fit(X_train['essay'].values) # fit has to happen only on train data\n",
    "\n",
    "# we use the fitted CountVectorizer to convert the text to vector\n",
    "X_train_essay_bow = vectorizer.transform(X_train['essay'].values)\n",
    "X_cv_essay_bow = vectorizer.transform(X_cv['essay'].values)\n",
    "X_test_essay_bow = vectorizer.transform(X_test['essay'].values)\n",
    "\n",
    "print(\"After vectorizations\")\n",
    "print(X_train_essay_bow.shape, y_train.shape)\n",
    "print(X_cv_essay_bow.shape, y_cv.shape)\n",
    "print(X_test_essay_bow.shape, y_test.shape)\n"
   ]
  },
  {
   "cell_type": "code",
   "execution_count": 27,
   "metadata": {},
   "outputs": [
    {
     "name": "stdout",
     "output_type": "stream",
     "text": [
      "After vectorizations\n",
      "(22445, 51) (22445,)\n",
      "(11055, 51) (11055,)\n",
      "(16500, 51) (16500,)\n",
      "['ak', 'al', 'ar', 'az', 'ca', 'co', 'ct', 'dc', 'de', 'fl', 'ga', 'hi', 'ia', 'id', 'il', 'in', 'ks', 'ky', 'la', 'ma', 'md', 'me', 'mi', 'mn', 'mo', 'ms', 'mt', 'nc', 'nd', 'ne', 'nh', 'nj', 'nm', 'nv', 'ny', 'oh', 'ok', 'or', 'pa', 'ri', 'sc', 'sd', 'tn', 'tx', 'ut', 'va', 'vt', 'wa', 'wi', 'wv', 'wy']\n"
     ]
    }
   ],
   "source": [
    "# Make Data Model Ready: encoding numerical, categorical features\n",
    "\n",
    "# encoding categorical features: School State\n",
    "\n",
    "vectorizer = CountVectorizer()\n",
    "vectorizer.fit(X_train['school_state'].values) # fit has to happen only on train data\n",
    "\n",
    "# we use the fitted CountVectorizer to convert the text to vector\n",
    "X_train_state_ohe = vectorizer.transform(X_train['school_state'].values)\n",
    "X_cv_state_ohe = vectorizer.transform(X_cv['school_state'].values)\n",
    "X_test_state_ohe = vectorizer.transform(X_test['school_state'].values)\n",
    "\n",
    "print(\"After vectorizations\")\n",
    "print(X_train_state_ohe.shape, y_train.shape)\n",
    "print(X_cv_state_ohe.shape, y_cv.shape)\n",
    "print(X_test_state_ohe.shape, y_test.shape)\n",
    "print(vectorizer.get_feature_names())\n",
    "\n",
    "#Creating a list to store the index detail for feature importance\n",
    "feature_list = []\n",
    "\n",
    "name1 = vectorizer.get_feature_names()\n",
    "\n",
    "for ele in name1:\n",
    "    feature_list.append(ele)\n"
   ]
  },
  {
   "cell_type": "code",
   "execution_count": 28,
   "metadata": {},
   "outputs": [
    {
     "name": "stdout",
     "output_type": "stream",
     "text": [
      "After vectorizations\n",
      "(22445, 5) (22445,)\n",
      "(11055, 5) (11055,)\n",
      "(16500, 5) (16500,)\n",
      "['dr', 'mr', 'mrs', 'ms', 'teacher']\n"
     ]
    }
   ],
   "source": [
    "# encoding categorical features: teacher_prefix\n",
    "\n",
    "vectorizer = CountVectorizer()\n",
    "vectorizer.fit(X_train['teacher_prefix'].values) # fit has to happen only on train data\n",
    "\n",
    "# we use the fitted CountVectorizer to convert the text to vector\n",
    "X_train_teacher_ohe = vectorizer.transform(X_train['teacher_prefix'].values)\n",
    "X_cv_teacher_ohe = vectorizer.transform(X_cv['teacher_prefix'].values)\n",
    "X_test_teacher_ohe = vectorizer.transform(X_test['teacher_prefix'].values)\n",
    "\n",
    "print(\"After vectorizations\")\n",
    "print(X_train_teacher_ohe.shape, y_train.shape)\n",
    "print(X_cv_teacher_ohe.shape, y_cv.shape)\n",
    "print(X_test_teacher_ohe.shape, y_test.shape)\n",
    "print(vectorizer.get_feature_names())\n",
    "\n",
    "name2 = vectorizer.get_feature_names()\n",
    "\n",
    "for ele in name2:\n",
    "    feature_list.append(ele)\n",
    "    "
   ]
  },
  {
   "cell_type": "code",
   "execution_count": 29,
   "metadata": {},
   "outputs": [
    {
     "name": "stdout",
     "output_type": "stream",
     "text": [
      "After vectorizations\n",
      "(22445, 4) (22445,)\n",
      "(11055, 4) (11055,)\n",
      "(16500, 4) (16500,)\n",
      "['grades_3_5', 'grades_6_8', 'grades_9_12', 'grades_prek_2']\n"
     ]
    }
   ],
   "source": [
    "# encoding categorical features: project_grade_category\n",
    "\n",
    "vectorizer = CountVectorizer()\n",
    "vectorizer.fit(X_train['project_grade_category'].values) # fit has to happen only on train data\n",
    "\n",
    "# we use the fitted CountVectorizer to convert the text to vector\n",
    "X_train_grade_ohe = vectorizer.transform(X_train['project_grade_category'].values)\n",
    "X_cv_grade_ohe = vectorizer.transform(X_cv['project_grade_category'].values)\n",
    "X_test_grade_ohe = vectorizer.transform(X_test['project_grade_category'].values)\n",
    "\n",
    "print(\"After vectorizations\")\n",
    "print(X_train_grade_ohe.shape, y_train.shape)\n",
    "print(X_cv_grade_ohe.shape, y_cv.shape)\n",
    "print(X_test_grade_ohe.shape, y_test.shape)\n",
    "print(vectorizer.get_feature_names())\n",
    "\n",
    "name3 = vectorizer.get_feature_names()\n",
    "\n",
    "for ele in name3:\n",
    "    feature_list.append(ele)\n",
    "    "
   ]
  },
  {
   "cell_type": "code",
   "execution_count": 30,
   "metadata": {},
   "outputs": [
    {
     "name": "stdout",
     "output_type": "stream",
     "text": [
      "After vectorizations\n",
      "(22445, 7) (22445,)\n",
      "(11055, 7) (11055,)\n",
      "(16500, 7) (16500,)\n",
      "['appliedlearning', 'health_sports', 'history_civics', 'literacy_language', 'math_science', 'music_arts', 'specialneeds']\n"
     ]
    }
   ],
   "source": [
    "# encoding categorical features: clean_categories\n",
    "\n",
    "vectorizer = CountVectorizer()\n",
    "vectorizer.fit(X_train['clean_categories'].values) # fit has to happen only on train data\n",
    "\n",
    "# we use the fitted CountVectorizer to convert the text to vector\n",
    "X_train_clcat_ohe = vectorizer.transform(X_train['clean_categories'].values)\n",
    "X_cv_clcat_ohe = vectorizer.transform(X_cv['clean_categories'].values)\n",
    "X_test_clcat_ohe = vectorizer.transform(X_test['clean_categories'].values)\n",
    "\n",
    "print(\"After vectorizations\")\n",
    "print(X_train_clcat_ohe.shape, y_train.shape)\n",
    "print(X_cv_clcat_ohe.shape, y_cv.shape)\n",
    "print(X_test_clcat_ohe.shape, y_test.shape)\n",
    "print(vectorizer.get_feature_names())\n",
    "\n",
    "name4 = vectorizer.get_feature_names()\n",
    "\n",
    "for ele in name4:\n",
    "    feature_list.append(ele)\n",
    "    "
   ]
  },
  {
   "cell_type": "code",
   "execution_count": 31,
   "metadata": {},
   "outputs": [
    {
     "name": "stdout",
     "output_type": "stream",
     "text": [
      "After vectorizations\n",
      "(22445, 28) (22445,)\n",
      "(11055, 28) (11055,)\n",
      "(16500, 28) (16500,)\n",
      "['appliedsciences', 'charactereducation', 'civics_government', 'college_careerprep', 'communityservice', 'earlydevelopment', 'economics', 'environmentalscience', 'esl', 'extracurricular', 'financialliteracy', 'foreignlanguages', 'gym_fitness', 'health_lifescience', 'health_wellness', 'history_geography', 'literacy', 'literature_writing', 'mathematics', 'music', 'nutritioneducation', 'other', 'parentinvolvement', 'performingarts', 'socialsciences', 'specialneeds', 'teamsports', 'visualarts']\n"
     ]
    }
   ],
   "source": [
    "# encoding categorical features: clean_subcategories\n",
    "\n",
    "vectorizer = CountVectorizer()\n",
    "vectorizer.fit(X_train['clean_subcategories'].values) # fit has to happen only on train data\n",
    "\n",
    "# we use the fitted CountVectorizer to convert the text to vector\n",
    "X_train_clsubcat_ohe = vectorizer.transform(X_train['clean_subcategories'].values)\n",
    "X_cv_clsubcat_ohe = vectorizer.transform(X_cv['clean_subcategories'].values)\n",
    "X_test_clsubcat_ohe = vectorizer.transform(X_test['clean_subcategories'].values)\n",
    "\n",
    "print(\"After vectorizations\")\n",
    "print(X_train_clsubcat_ohe.shape, y_train.shape)\n",
    "print(X_cv_clsubcat_ohe.shape, y_cv.shape)\n",
    "print(X_test_clsubcat_ohe.shape, y_test.shape)\n",
    "print(vectorizer.get_feature_names())\n",
    "\n",
    "name5 = vectorizer.get_feature_names()\n",
    "\n",
    "for ele in name5:\n",
    "    feature_list.append(ele)\n",
    "    "
   ]
  },
  {
   "cell_type": "code",
   "execution_count": 32,
   "metadata": {},
   "outputs": [
    {
     "name": "stdout",
     "output_type": "stream",
     "text": [
      "After vectorizations\n",
      "(22445, 1) (22445,)\n",
      "(11055, 1) (11055,)\n",
      "(16500, 1) (16500,)\n"
     ]
    }
   ],
   "source": [
    "# encoding numerical features: Price\n",
    "\n",
    "from sklearn.preprocessing import Normalizer\n",
    "normalizer = Normalizer()\n",
    "\n",
    "normalizer.fit(X_train['price'].values.reshape(1,-1))\n",
    "\n",
    "X_train_price_norm = normalizer.transform(X_train['price'].values.reshape(1,-1)).reshape(-1,1)\n",
    "X_cv_price_norm = normalizer.transform(X_cv['price'].values.reshape(1,-1)).reshape(-1,1)\n",
    "X_test_price_norm = normalizer.transform(X_test['price'].values.reshape(1,-1)).reshape(-1,1)\n",
    "\n",
    "print(\"After vectorizations\")\n",
    "print(X_train_price_norm.shape, y_train.shape)\n",
    "print(X_cv_price_norm.shape, y_cv.shape)\n",
    "print(X_test_price_norm.shape, y_test.shape)\n",
    "\n",
    "feature_list.append(\"price\")\n"
   ]
  },
  {
   "cell_type": "code",
   "execution_count": 33,
   "metadata": {},
   "outputs": [
    {
     "name": "stdout",
     "output_type": "stream",
     "text": [
      "After vectorizations\n",
      "(22445, 1) (22445,)\n",
      "(11055, 1) (11055,)\n",
      "(16500, 1) (16500,)\n"
     ]
    }
   ],
   "source": [
    "\n",
    "# encoding numerical features: teacher_number_of_previously_posted_projects\n",
    "\n",
    "from sklearn.preprocessing import Normalizer\n",
    "normalizer = Normalizer()\n",
    "\n",
    "normalizer.fit(X_train['teacher_number_of_previously_posted_projects'].values.reshape(-1,1))\n",
    "\n",
    "X_train_prepro_norm = normalizer.transform(X_train['teacher_number_of_previously_posted_projects'].values.reshape(-1,1))\n",
    "X_cv_prepro_norm = normalizer.transform(X_cv['teacher_number_of_previously_posted_projects'].values.reshape(-1,1))\n",
    "X_test_prepro_norm = normalizer.transform(X_test['teacher_number_of_previously_posted_projects'].values.reshape(-1,1))\n",
    "\n",
    "print(\"After vectorizations\")\n",
    "print(X_train_prepro_norm.shape, y_train.shape)\n",
    "print(X_cv_prepro_norm.shape, y_cv.shape)\n",
    "print(X_test_prepro_norm.shape, y_test.shape)\n",
    "\n",
    "feature_list.append(\"previously_posted_projects\")\n"
   ]
  },
  {
   "cell_type": "code",
   "execution_count": 34,
   "metadata": {},
   "outputs": [
    {
     "name": "stdout",
     "output_type": "stream",
     "text": [
      "After vectorizations\n",
      "(22445, 5000) (22445,)\n",
      "(11055, 5000) (11055,)\n",
      "(16500, 5000) (16500,)\n"
     ]
    }
   ],
   "source": [
    "\n",
    "#--- Set 2: categorical, numerical features + preprocessed_eassay (TFIDF)\n",
    "\n",
    "# encoding text features: preprocessed_eassay (TFIDF)\n",
    "\n",
    "vectorizer = TfidfVectorizer(min_df=10,ngram_range=(1,4), max_features=5000)\n",
    "vectorizer.fit(X_train['essay'].values) # fit has to happen only on train data\n",
    "\n",
    "# we use the fitted TfidfVectorizer to convert the text to vector\n",
    "X_train_essay_tfidf = vectorizer.transform(X_train['essay'].values)\n",
    "X_cv_essay_tfidf = vectorizer.transform(X_cv['essay'].values)\n",
    "X_test_essay_tfidf = vectorizer.transform(X_test['essay'].values)\n",
    "\n",
    "print(\"After vectorizations\")\n",
    "print(X_train_essay_tfidf.shape, y_train.shape)\n",
    "print(X_cv_essay_tfidf.shape, y_cv.shape)\n",
    "print(X_test_essay_tfidf.shape, y_test.shape)\n",
    "\n",
    "name8 = vectorizer.get_feature_names()\n",
    "\n",
    "for ele in name8:\n",
    "    feature_list.append(ele)\n",
    "    "
   ]
  },
  {
   "cell_type": "code",
   "execution_count": 35,
   "metadata": {},
   "outputs": [
    {
     "name": "stdout",
     "output_type": "stream",
     "text": [
      "Final Data matrix 1\n",
      "(22445, 5097) (22445,)\n",
      "(11055, 5097) (11055,)\n",
      "(16500, 5097) (16500,)\n"
     ]
    }
   ],
   "source": [
    "# --- Concatinating all the features\n",
    "\n",
    "###### SET 1 ########\n",
    "\n",
    "X_tr1 = hstack((X_train_state_ohe,X_train_teacher_ohe,X_train_grade_ohe,X_train_clcat_ohe,X_train_clsubcat_ohe,X_train_price_norm,X_train_prepro_norm,X_train_essay_bow)).tocsr()\n",
    "X_cr1 = hstack((X_cv_state_ohe,X_cv_teacher_ohe,X_cv_grade_ohe,X_cv_clcat_ohe,X_cv_clsubcat_ohe,X_cv_price_norm,X_cv_prepro_norm,X_cv_essay_bow)).tocsr()\n",
    "X_te1 = hstack((X_test_state_ohe,X_test_teacher_ohe,X_test_grade_ohe,X_test_clcat_ohe,X_test_clsubcat_ohe,X_test_price_norm,X_test_prepro_norm,X_test_essay_bow)).tocsr()\n",
    "\n",
    "print(\"Final Data matrix 1\")\n",
    "print(X_tr1.shape, y_train.shape)\n",
    "print(X_cr1.shape, y_cv.shape)\n",
    "print(X_te1.shape, y_test.shape)"
   ]
  },
  {
   "cell_type": "code",
   "execution_count": 36,
   "metadata": {},
   "outputs": [
    {
     "name": "stdout",
     "output_type": "stream",
     "text": [
      "Final Data matrix 2\n",
      "(22445, 5097) (22445,)\n",
      "(11055, 5097) (11055,)\n",
      "(16500, 5097) (16500,)\n"
     ]
    }
   ],
   "source": [
    "# --- Concatinating all the features\n",
    "\n",
    "###### SET 2 ########\n",
    "\n",
    "X_tr2 = hstack((X_train_state_ohe,X_train_teacher_ohe,X_train_grade_ohe,X_train_clcat_ohe,X_train_clsubcat_ohe,X_train_price_norm,X_train_prepro_norm,X_train_essay_tfidf)).tocsr()\n",
    "X_cr2 = hstack((X_cv_state_ohe,X_cv_teacher_ohe,X_cv_grade_ohe,X_cv_clcat_ohe,X_cv_clsubcat_ohe,X_cv_price_norm,X_cv_prepro_norm,X_cv_essay_tfidf)).tocsr()\n",
    "X_te2 = hstack((X_test_state_ohe,X_test_teacher_ohe,X_test_grade_ohe,X_test_clcat_ohe,X_test_clsubcat_ohe,X_test_price_norm,X_test_prepro_norm,X_test_essay_tfidf)).tocsr()\n",
    "\n",
    "print(\"Final Data matrix 2\")\n",
    "print(X_tr2.shape, y_train.shape)\n",
    "print(X_cr2.shape, y_cv.shape)\n",
    "print(X_te2.shape, y_test.shape) \n"
   ]
  },
  {
   "cell_type": "code",
   "execution_count": 37,
   "metadata": {},
   "outputs": [
    {
     "data": {
      "image/png": "[encoded data removed]",
      "text/plain": [
       "<Figure size 432x288 with 1 Axes>"
      ]
     },
     "metadata": {
      "needs_background": "light"
     },
     "output_type": "display_data"
    },
    {
     "data": {
      "text/html": [
       "<div>\n",
       "<style scoped>\n",
       "    .dataframe tbody tr th:only-of-type {\n",
       "        vertical-align: middle;\n",
       "    }\n",
       "\n",
       "    .dataframe tbody tr th {\n",
       "        vertical-align: top;\n",
       "    }\n",
       "\n",
       "    .dataframe thead th {\n",
       "        text-align: right;\n",
       "    }\n",
       "</style>\n",
       "<table border=\"1\" class=\"dataframe\">\n",
       "  <thead>\n",
       "    <tr style=\"text-align: right;\">\n",
       "      <th></th>\n",
       "      <th>mean_fit_time</th>\n",
       "      <th>std_fit_time</th>\n",
       "      <th>mean_score_time</th>\n",
       "      <th>std_score_time</th>\n",
       "      <th>param_alpha</th>\n",
       "      <th>params</th>\n",
       "      <th>split0_test_score</th>\n",
       "      <th>split1_test_score</th>\n",
       "      <th>split2_test_score</th>\n",
       "      <th>mean_test_score</th>\n",
       "      <th>std_test_score</th>\n",
       "      <th>rank_test_score</th>\n",
       "    </tr>\n",
       "  </thead>\n",
       "  <tbody>\n",
       "    <tr>\n",
       "      <th>0</th>\n",
       "      <td>0.038156</td>\n",
       "      <td>0.011771</td>\n",
       "      <td>0.012058</td>\n",
       "      <td>0.003156</td>\n",
       "      <td>1e-05</td>\n",
       "      <td>{'alpha': 1e-05}</td>\n",
       "      <td>0.677585</td>\n",
       "      <td>0.687480</td>\n",
       "      <td>0.697484</td>\n",
       "      <td>0.687516</td>\n",
       "      <td>0.008124</td>\n",
       "      <td>4</td>\n",
       "    </tr>\n",
       "    <tr>\n",
       "      <th>1</th>\n",
       "      <td>0.028983</td>\n",
       "      <td>0.000179</td>\n",
       "      <td>0.009678</td>\n",
       "      <td>0.000065</td>\n",
       "      <td>0.0001</td>\n",
       "      <td>{'alpha': 0.0001}</td>\n",
       "      <td>0.677619</td>\n",
       "      <td>0.687470</td>\n",
       "      <td>0.697494</td>\n",
       "      <td>0.687528</td>\n",
       "      <td>0.008114</td>\n",
       "      <td>3</td>\n",
       "    </tr>\n",
       "    <tr>\n",
       "      <th>2</th>\n",
       "      <td>0.029283</td>\n",
       "      <td>0.000078</td>\n",
       "      <td>0.009724</td>\n",
       "      <td>0.000046</td>\n",
       "      <td>0.001</td>\n",
       "      <td>{'alpha': 0.001}</td>\n",
       "      <td>0.677675</td>\n",
       "      <td>0.687453</td>\n",
       "      <td>0.697506</td>\n",
       "      <td>0.687545</td>\n",
       "      <td>0.008096</td>\n",
       "      <td>2</td>\n",
       "    </tr>\n",
       "    <tr>\n",
       "      <th>3</th>\n",
       "      <td>0.029186</td>\n",
       "      <td>0.000117</td>\n",
       "      <td>0.009678</td>\n",
       "      <td>0.000022</td>\n",
       "      <td>0.01</td>\n",
       "      <td>{'alpha': 0.01}</td>\n",
       "      <td>0.677736</td>\n",
       "      <td>0.687430</td>\n",
       "      <td>0.697520</td>\n",
       "      <td>0.687562</td>\n",
       "      <td>0.008078</td>\n",
       "      <td>1</td>\n",
       "    </tr>\n",
       "    <tr>\n",
       "      <th>4</th>\n",
       "      <td>0.029154</td>\n",
       "      <td>0.000116</td>\n",
       "      <td>0.009681</td>\n",
       "      <td>0.000038</td>\n",
       "      <td>0.1</td>\n",
       "      <td>{'alpha': 0.1}</td>\n",
       "      <td>0.677709</td>\n",
       "      <td>0.687302</td>\n",
       "      <td>0.697489</td>\n",
       "      <td>0.687500</td>\n",
       "      <td>0.008077</td>\n",
       "      <td>5</td>\n",
       "    </tr>\n",
       "  </tbody>\n",
       "</table>\n",
       "</div>"
      ],
      "text/plain": [
       "   mean_fit_time  std_fit_time  mean_score_time  std_score_time param_alpha  \\\n",
       "0       0.038156      0.011771         0.012058        0.003156       1e-05   \n",
       "1       0.028983      0.000179         0.009678        0.000065      0.0001   \n",
       "2       0.029283      0.000078         0.009724        0.000046       0.001   \n",
       "3       0.029186      0.000117         0.009678        0.000022        0.01   \n",
       "4       0.029154      0.000116         0.009681        0.000038         0.1   \n",
       "\n",
       "              params  split0_test_score  split1_test_score  split2_test_score  \\\n",
       "0   {'alpha': 1e-05}           0.677585           0.687480           0.697484   \n",
       "1  {'alpha': 0.0001}           0.677619           0.687470           0.697494   \n",
       "2   {'alpha': 0.001}           0.677675           0.687453           0.697506   \n",
       "3    {'alpha': 0.01}           0.677736           0.687430           0.697520   \n",
       "4     {'alpha': 0.1}           0.677709           0.687302           0.697489   \n",
       "\n",
       "   mean_test_score  std_test_score  rank_test_score  \n",
       "0         0.687516        0.008124                4  \n",
       "1         0.687528        0.008114                3  \n",
       "2         0.687545        0.008096                2  \n",
       "3         0.687562        0.008078                1  \n",
       "4         0.687500        0.008077                5  "
      ]
     },
     "execution_count": 37,
     "metadata": {},
     "output_type": "execute_result"
    }
   ],
   "source": [
    "#### Appling Multinomial NB: BOW featurization\n",
    "\n",
    "from sklearn.model_selection import GridSearchCV\n",
    "from sklearn.model_selection import RandomizedSearchCV\n",
    "from sklearn.naive_bayes import MultinomialNB\n",
    "import math\n",
    "\n",
    "mnb = MultinomialNB(class_prior = [0.5, 0.5] )\n",
    "parameters = {'alpha': [0.00001,0.0001,0.001,0.01,0.1,1,10,100,1000,10000]}\n",
    "clf = RandomizedSearchCV(mnb, parameters, cv=3, scoring='roc_auc')\n",
    "clf.fit(X_tr1, y_train)\n",
    "\n",
    "results = pd.DataFrame.from_dict(clf.cv_results_)\n",
    "results = results.sort_values(['param_alpha'])\n",
    "\n",
    "train_auc= results['mean_fit_time']\n",
    "train_auc_std= results['std_fit_time']\n",
    "cv_auc = results['mean_score_time'] \n",
    "cv_auc_std= results['std_score_time']\n",
    "alpha =  results['param_alpha']\n",
    "\n",
    "log_a = alpha.apply(math.log)\n",
    "\n",
    "plt.plot(log_a, train_auc, label='Train AUC')\n",
    "plt.plot(log_a, cv_auc, label='CV AUC')\n",
    "\n",
    "plt.scatter(log_a, train_auc, label='Train AUC points')\n",
    "plt.scatter(log_a, cv_auc, label='CV AUC points')\n",
    "\n",
    "\n",
    "plt.legend()\n",
    "plt.xlabel(\"Aplha: hyperparameter\")\n",
    "plt.ylabel(\"AUC\")\n",
    "plt.title(\"Hyper parameter Vs AUC plot\")\n",
    "plt.grid()\n",
    "plt.show()\n",
    "\n",
    "results.head()\n"
   ]
  },
  {
   "cell_type": "code",
   "execution_count": 38,
   "metadata": {},
   "outputs": [],
   "source": [
    "best_alpha = 0.01"
   ]
  },
  {
   "cell_type": "code",
   "execution_count": 39,
   "metadata": {},
   "outputs": [
    {
     "data": {
      "image/png": "[encoded data removed]",
      "text/plain": [
       "<Figure size 432x288 with 1 Axes>"
      ]
     },
     "metadata": {
      "needs_background": "light"
     },
     "output_type": "display_data"
    }
   ],
   "source": [
    "###### SET 1 ########\n",
    "#### Run Set 1 test data on trained model ######\n",
    "\n",
    "mnb = MultinomialNB(alpha = best_alpha)\n",
    "mnb.fit(X_tr1, y_train)\n",
    "\n",
    "# make class predictions for test\n",
    "y_pred_class = mnb.predict(X_tr1)\n",
    "y_train_pred = mnb.predict_proba(X_tr1)[:, 1]\n",
    "y_pred_class = mnb.predict(X_te1)\n",
    "y_test_pred = mnb.predict_proba(X_te1)[:, 1]\n",
    "\n",
    "\n",
    "train_fpr, train_tpr, tr_thresholds = roc_curve(y_train, y_train_pred)\n",
    "test_fpr, test_tpr, te_thresholds = roc_curve(y_test, y_test_pred)\n",
    "\n",
    "plt.plot(train_fpr, train_tpr, label=\"train AUC =\"+str(auc(train_fpr, train_tpr)))\n",
    "plt.plot(test_fpr, test_tpr, label=\"test AUC =\"+str(auc(test_fpr, test_tpr)))\n",
    "plt.legend()\n",
    "plt.xlabel(\"Alpha: hyperparameter\")\n",
    "plt.ylabel(\"AUC\")\n",
    "plt.title(\"ERROR PLOTS\")\n",
    "plt.grid()\n",
    "plt.show()"
   ]
  },
  {
   "cell_type": "code",
   "execution_count": 40,
   "metadata": {},
   "outputs": [],
   "source": [
    "\n",
    "# we will pick a threshold that will give the least fpr\n",
    "\n",
    "def find_best_threshold(threshould, fpr, tpr):\n",
    "    t = threshould[np.argmax(tpr*(1-fpr))]\n",
    "    # (tpr*(1-fpr)) will be maximum if your fpr is very low and tpr is very high\n",
    "    print(\"the maximum value of tpr*(1-fpr)\", max(tpr*(1-fpr)), \"for threshold\", np.round(t,3))\n",
    "    return t\n",
    "\n",
    "def predict_with_best_t(proba, threshould):\n",
    "    predictions = []\n",
    "    for i in proba:\n",
    "        if i>=threshould:\n",
    "            predictions.append(1)\n",
    "        else:\n",
    "            predictions.append(0)\n",
    "    return predictions"
   ]
  },
  {
   "cell_type": "code",
   "execution_count": 41,
   "metadata": {},
   "outputs": [
    {
     "name": "stdout",
     "output_type": "stream",
     "text": [
      "the maximum value of tpr*(1-fpr) 0.4795900583997078 for threshold 0.915\n",
      "Train confusion matrix\n",
      "[[ 2595  1000]\n",
      " [ 6326 12524]]\n",
      "Test confusion matrix\n",
      "[[1692  950]\n",
      " [5039 8819]]\n"
     ]
    }
   ],
   "source": [
    "# Confusion matrix for set 1\n",
    "\n",
    "best_t = find_best_threshold(tr_thresholds, train_fpr, train_tpr)\n",
    "\n",
    "print(\"Train confusion matrix\")\n",
    "print(confusion_matrix(y_train, predict_with_best_t(y_train_pred, best_t)))\n",
    "print(\"Test confusion matrix\")\n",
    "print(confusion_matrix(y_test, predict_with_best_t(y_test_pred, best_t)))\n"
   ]
  },
  {
   "cell_type": "code",
   "execution_count": 42,
   "metadata": {},
   "outputs": [
    {
     "data": {
      "image/png": "[encoded data removed]",
      "text/plain": [
       "<Figure size 432x288 with 1 Axes>"
      ]
     },
     "metadata": {
      "needs_background": "light"
     },
     "output_type": "display_data"
    },
    {
     "data": {
      "text/html": [
       "<div>\n",
       "<style scoped>\n",
       "    .dataframe tbody tr th:only-of-type {\n",
       "        vertical-align: middle;\n",
       "    }\n",
       "\n",
       "    .dataframe tbody tr th {\n",
       "        vertical-align: top;\n",
       "    }\n",
       "\n",
       "    .dataframe thead th {\n",
       "        text-align: right;\n",
       "    }\n",
       "</style>\n",
       "<table border=\"1\" class=\"dataframe\">\n",
       "  <thead>\n",
       "    <tr style=\"text-align: right;\">\n",
       "      <th></th>\n",
       "      <th>mean_fit_time</th>\n",
       "      <th>std_fit_time</th>\n",
       "      <th>mean_score_time</th>\n",
       "      <th>std_score_time</th>\n",
       "      <th>param_alpha</th>\n",
       "      <th>params</th>\n",
       "      <th>split0_test_score</th>\n",
       "      <th>split1_test_score</th>\n",
       "      <th>split2_test_score</th>\n",
       "      <th>mean_test_score</th>\n",
       "      <th>std_test_score</th>\n",
       "      <th>rank_test_score</th>\n",
       "    </tr>\n",
       "  </thead>\n",
       "  <tbody>\n",
       "    <tr>\n",
       "      <th>0</th>\n",
       "      <td>0.035524</td>\n",
       "      <td>0.003947</td>\n",
       "      <td>0.012164</td>\n",
       "      <td>0.001932</td>\n",
       "      <td>1e-05</td>\n",
       "      <td>{'alpha': 1e-05}</td>\n",
       "      <td>0.649957</td>\n",
       "      <td>0.670493</td>\n",
       "      <td>0.672416</td>\n",
       "      <td>0.664288</td>\n",
       "      <td>0.010164</td>\n",
       "      <td>1</td>\n",
       "    </tr>\n",
       "    <tr>\n",
       "      <th>1</th>\n",
       "      <td>0.028956</td>\n",
       "      <td>0.000469</td>\n",
       "      <td>0.009620</td>\n",
       "      <td>0.000035</td>\n",
       "      <td>0.0001</td>\n",
       "      <td>{'alpha': 0.0001}</td>\n",
       "      <td>0.649954</td>\n",
       "      <td>0.670467</td>\n",
       "      <td>0.672414</td>\n",
       "      <td>0.664278</td>\n",
       "      <td>0.010160</td>\n",
       "      <td>2</td>\n",
       "    </tr>\n",
       "    <tr>\n",
       "      <th>2</th>\n",
       "      <td>0.028685</td>\n",
       "      <td>0.000127</td>\n",
       "      <td>0.009603</td>\n",
       "      <td>0.000075</td>\n",
       "      <td>0.001</td>\n",
       "      <td>{'alpha': 0.001}</td>\n",
       "      <td>0.649936</td>\n",
       "      <td>0.670422</td>\n",
       "      <td>0.672396</td>\n",
       "      <td>0.664251</td>\n",
       "      <td>0.010155</td>\n",
       "      <td>3</td>\n",
       "    </tr>\n",
       "    <tr>\n",
       "      <th>3</th>\n",
       "      <td>0.029513</td>\n",
       "      <td>0.000716</td>\n",
       "      <td>0.010084</td>\n",
       "      <td>0.000776</td>\n",
       "      <td>0.01</td>\n",
       "      <td>{'alpha': 0.01}</td>\n",
       "      <td>0.649733</td>\n",
       "      <td>0.670223</td>\n",
       "      <td>0.672244</td>\n",
       "      <td>0.664067</td>\n",
       "      <td>0.010169</td>\n",
       "      <td>4</td>\n",
       "    </tr>\n",
       "    <tr>\n",
       "      <th>4</th>\n",
       "      <td>0.028730</td>\n",
       "      <td>0.000104</td>\n",
       "      <td>0.009717</td>\n",
       "      <td>0.000147</td>\n",
       "      <td>0.1</td>\n",
       "      <td>{'alpha': 0.1}</td>\n",
       "      <td>0.647743</td>\n",
       "      <td>0.668640</td>\n",
       "      <td>0.670878</td>\n",
       "      <td>0.662420</td>\n",
       "      <td>0.010419</td>\n",
       "      <td>5</td>\n",
       "    </tr>\n",
       "  </tbody>\n",
       "</table>\n",
       "</div>"
      ],
      "text/plain": [
       "   mean_fit_time  std_fit_time  mean_score_time  std_score_time param_alpha  \\\n",
       "0       0.035524      0.003947         0.012164        0.001932       1e-05   \n",
       "1       0.028956      0.000469         0.009620        0.000035      0.0001   \n",
       "2       0.028685      0.000127         0.009603        0.000075       0.001   \n",
       "3       0.029513      0.000716         0.010084        0.000776        0.01   \n",
       "4       0.028730      0.000104         0.009717        0.000147         0.1   \n",
       "\n",
       "              params  split0_test_score  split1_test_score  split2_test_score  \\\n",
       "0   {'alpha': 1e-05}           0.649957           0.670493           0.672416   \n",
       "1  {'alpha': 0.0001}           0.649954           0.670467           0.672414   \n",
       "2   {'alpha': 0.001}           0.649936           0.670422           0.672396   \n",
       "3    {'alpha': 0.01}           0.649733           0.670223           0.672244   \n",
       "4     {'alpha': 0.1}           0.647743           0.668640           0.670878   \n",
       "\n",
       "   mean_test_score  std_test_score  rank_test_score  \n",
       "0         0.664288        0.010164                1  \n",
       "1         0.664278        0.010160                2  \n",
       "2         0.664251        0.010155                3  \n",
       "3         0.664067        0.010169                4  \n",
       "4         0.662420        0.010419                5  "
      ]
     },
     "execution_count": 42,
     "metadata": {},
     "output_type": "execute_result"
    }
   ],
   "source": [
    "###### SET 2 ########\n",
    "#### Run Set 2 to train model ######\n",
    "#### Appling Multinomial NB: TFIDF featurization #######\n",
    "\n",
    "\n",
    "mnb = MultinomialNB(class_prior = [0.5, 0.5] )\n",
    "parameters = {'alpha': [0.00001,0.0001,0.001,0.01,0.1,1,10,100,1000,10000]}\n",
    "clf = RandomizedSearchCV(mnb, parameters, cv=3, scoring='roc_auc')\n",
    "clf.fit(X_tr2, y_train)\n",
    "\n",
    "results = pd.DataFrame.from_dict(clf.cv_results_)\n",
    "results = results.sort_values(['param_alpha'])\n",
    "\n",
    "train_auc= results['mean_fit_time']\n",
    "train_auc_std= results['std_fit_time']\n",
    "cv_auc = results['mean_score_time'] \n",
    "cv_auc_std= results['std_score_time']\n",
    "alpha =  results['param_alpha']\n",
    "\n",
    "log_a = alpha.apply(math.log)\n",
    "\n",
    "plt.plot(log_a, train_auc, label='Train AUC')\n",
    "plt.plot(log_a, cv_auc, label='CV AUC')\n",
    "\n",
    "plt.scatter(log_a, train_auc, label='Train AUC points')\n",
    "plt.scatter(log_a, cv_auc, label='CV AUC points')\n",
    "\n",
    "\n",
    "plt.legend()\n",
    "plt.xlabel(\"Aplha: hyperparameter\")\n",
    "plt.ylabel(\"AUC\")\n",
    "plt.title(\"Hyper parameter Vs AUC plot\")\n",
    "plt.grid()\n",
    "plt.show()\n",
    "\n",
    "results.head()\n"
   ]
  },
  {
   "cell_type": "code",
   "execution_count": 43,
   "metadata": {},
   "outputs": [],
   "source": [
    "best_alpha = 0.1"
   ]
  },
  {
   "cell_type": "code",
   "execution_count": 44,
   "metadata": {},
   "outputs": [
    {
     "data": {
      "image/png": "[encoded data removed]",
      "text/plain": [
       "<Figure size 432x288 with 1 Axes>"
      ]
     },
     "metadata": {
      "needs_background": "light"
     },
     "output_type": "display_data"
    }
   ],
   "source": [
    "\n",
    "###### SET 2 ########\n",
    "#### Run Set 2 test data on trained model ######\n",
    "\n",
    "from sklearn.metrics import roc_curve, auc\n",
    "\n",
    "mnb = MultinomialNB(alpha = best_alpha)\n",
    "fit_set2 = mnb.fit(X_tr2, y_train)\n",
    "\n",
    "# make class predictions for test\n",
    "y_pred_class = mnb.predict(X_tr2)\n",
    "y_train_pred = mnb.predict_proba(X_tr2)[:, 1]\n",
    "y_pred_class = mnb.predict(X_te2)\n",
    "y_test_pred = mnb.predict_proba(X_te2)[:, 1]\n",
    "\n",
    "\n",
    "train_fpr, train_tpr, tr_thresholds = roc_curve(y_train, y_train_pred)\n",
    "test_fpr, test_tpr, te_thresholds = roc_curve(y_test, y_test_pred)\n",
    "\n",
    "plt.plot(train_fpr, train_tpr, label=\"train AUC =\"+str(auc(train_fpr, train_tpr)))\n",
    "plt.plot(test_fpr, test_tpr, label=\"test AUC =\"+str(auc(test_fpr, test_tpr)))\n",
    "plt.legend()\n",
    "plt.xlabel(\"Alpha: hyperparameter\")\n",
    "plt.ylabel(\"AUC\")\n",
    "plt.title(\"ERROR PLOTS\")\n",
    "plt.grid()\n",
    "plt.show()\n"
   ]
  },
  {
   "cell_type": "code",
   "execution_count": 45,
   "metadata": {},
   "outputs": [
    {
     "name": "stdout",
     "output_type": "stream",
     "text": [
      "the maximum value of tpr*(1-fpr) 0.44831496736920934 for threshold 0.844\n",
      "Train confusion matrix\n",
      "[[ 2425  1170]\n",
      " [ 6322 12528]]\n",
      "Test confusion matrix\n",
      "[[1554 1088]\n",
      " [4943 8915]]\n"
     ]
    }
   ],
   "source": [
    "# Confusion matrix for set 2\n",
    "\n",
    "best_t = find_best_threshold(tr_thresholds, train_fpr, train_tpr)\n",
    "\n",
    "print(\"Train confusion matrix\")\n",
    "print(confusion_matrix(y_train, predict_with_best_t(y_train_pred, best_t)))\n",
    "print(\"Test confusion matrix\")\n",
    "print(confusion_matrix(y_test, predict_with_best_t(y_test_pred, best_t)))\n"
   ]
  },
  {
   "cell_type": "code",
   "execution_count": 46,
   "metadata": {},
   "outputs": [
    {
     "name": "stdout",
     "output_type": "stream",
     "text": [
      "Top features for positive class \n",
      "['previously_posted_projects', 'mrs', 'literacy_language', 'grades_prek_2', 'math_science', 'ms', 'grades_3_5', 'literacy', 'mathematics', 'literature_writing', 'health_sports', 'grades_6_8', 'ca', 'specialneeds', 'specialneeds', 'students', 'appliedlearning', 'health_wellness', 'appliedsciences', 'grades_9_12']\n",
      "****************************************************************************************************\n",
      "Top features for negative class \n",
      "['previously_posted_projects', 'mrs', 'literacy_language', 'grades_prek_2', 'math_science', 'grades_3_5', 'ms', 'literacy', 'mathematics', 'literature_writing', 'health_sports', 'grades_6_8', 'ca', 'health_wellness', 'students', 'specialneeds', 'specialneeds', 'appliedlearning', 'grades_9_12', 'mr']\n"
     ]
    }
   ],
   "source": [
    "#https://stackoverflow.com/questions/50526898/how-to-get-feature-importance-in-naive-bayes\n",
    "\n",
    "# Top features for predicting the class labels 0 and 1 for set 2\n",
    "\n",
    "neg_class_prob_sorted = fit_set2.feature_log_prob_[0, :].argsort()\n",
    "pos_class_prob_sorted = fit_set2.feature_log_prob_[1, :].argsort()\n",
    "\n",
    "lst1 = neg_class_prob_sorted[-20:]\n",
    "lst2 = pos_class_prob_sorted[-20:]\n",
    "\n",
    "pos_list = []\n",
    "neg_list = []\n",
    "\n",
    "for ele in reversed(lst1):\n",
    "    word = feature_list[ele]\n",
    "    pos_list.append(word)\n",
    "\n",
    "print(\"Top features for positive class \")\n",
    "print(pos_list)\n",
    "print(\"*\"*100)    \n",
    "\n",
    "for ele in reversed(lst2):\n",
    "    word = feature_list[ele]\n",
    "    neg_list.append(word)\n",
    "\n",
    "print(\"Top features for negative class \")\n",
    "print(neg_list)\n"
   ]
  },
  {
   "cell_type": "code",
   "execution_count": 47,
   "metadata": {},
   "outputs": [
    {
     "name": "stdout",
     "output_type": "stream",
     "text": [
      "+------------+----------------+-----------------+-----------------+----------------+\n",
      "| Vectorizer |     Model      | Hyper Parameter | Train AUC Score | Test AUC Score |\n",
      "+------------+----------------+-----------------+-----------------+----------------+\n",
      "|    BOW     | Multinomial NB |       0.01      |       0.75      |      0.68      |\n",
      "|   TFIDF    | Multinomial NB |       0.1       |       0.73      |      0.65      |\n",
      "+------------+----------------+-----------------+-----------------+----------------+\n"
     ]
    }
   ],
   "source": [
    "# http://zetcode.com/python/prettytable/\n",
    "\n",
    "### Summary\n",
    "\n",
    "from prettytable import PrettyTable\n",
    "\n",
    "tab = PrettyTable()\n",
    "tab.field_names = [\"Vectorizer\", \"Model\", \"Hyper Parameter\", \"Train AUC Score\", \"Test AUC Score\"]\n",
    "\n",
    "tab.add_row([\"BOW\", \"Multinomial NB\", 0.01, 0.75, 0.68])\n",
    "tab.add_row([\"TFIDF\", \"Multinomial NB\" , 0.1, 0.73, 0.65])\n",
    "\n",
    "print(tab)\n"
   ]
  }
 ],
 "metadata": {
  "kernelspec": {
   "display_name": "Python 3",
   "language": "python",
   "name": "python3"
  },
  "language_info": {
   "codemirror_mode": {
    "name": "ipython",
    "version": 3
   },
   "file_extension": ".py",
   "mimetype": "text/x-python",
   "name": "python",
   "nbconvert_exporter": "python",
   "pygments_lexer": "ipython3",
   "version": "3.6.9"
  }
 },
 "nbformat": 4,
 "nbformat_minor": 4
}
